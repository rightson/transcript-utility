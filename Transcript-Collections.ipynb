{
 "cells": [
  {
   "cell_type": "code",
   "execution_count": 1,
   "id": "537496a3",
   "metadata": {},
   "outputs": [
    {
     "data": {
      "text/plain": [
       "\"大家好 我今天本來想說 跟你們說台語 但是越想越緊張 我在美國長大的 所以我的台語現在不是很標準 也不是很會 所以我今天跟你說英文好不好 OK 咱開始 今天是一個很特別的一天 And a dream come true for your parentsYou should be moving out soon. It is surely a day of pride and joy. Your parents have made sacrifices to see you on this day. Your grandparents have made sacrifices to see you on this day. Let's show all of our parents and our grandparents, many of them are here, our appreciation. I came to NTU for the first time over a decade ago. Dr. Chang invited me to visit his computational physics lab. As I recall, his son, based in Silicon Valley, had learned of NVIDIA's CUDA invention and recommended his father utilize it for his quantum physics simulations. When I arrived, he opened the door and showed me what he had made. NVIDIA GeForce gaming cards filled the room, plugged into open DC motherboards.and sitting on metal shelves in the aisles were oscillating platform fans. Dr. Chang had built a homemade supercomputer, the Taiwanese way, out of gaming graphics cards. And he started here an early example of NVIDIA's journey. He was so proud and he said to me, Mr. Huang, because of your work, I can do my life's work in my lifetime. Those words touch me to this day and perfectly capture our company's purpose. To help the Einstein and Da Vinci of our time do their life's work. I am so happy to be back at NTU and to be your commencement address. The world was simpler when I graduated from Oregon State University. TVs were not flat yet. There was no cable television and MTV. And the words mobile and phone didn't go together. The year was 1984.the IBM PC AT and Apple Macintosh launched the PC revolution and Started the chip and software industry that we know today You enter a far more complex world with geopolitical social and environmental changes and challenges Surrounded by technology We are now perpetually connected and immersed in a digital world That parallels our real world Cars are starting to drive by themselves 40 years the after the computer industry Created the home PC We invented artificial intelligence Like software that automatically drives a car Or studies x-ray images AI software has opened the door for computers to automate tasks for the world's largest Multi-trillion dollars of industries healthcare financial services transportation and manufacturing AI has opened immense opportunities Agile companies will take advantage of AI and boost their position Companies less so will perish Entrepreneurs many of them here todaywill start new companies and like in every computing era before, create new industries. AI will create new jobs that didn't exist before, like data engineering, prompt engineering, AI factory operations, and AI safety engineers. These are jobs that never existed before. Automated tasks will obsolete some jobs. And for sure, AI will change every job, supercharging the performance of programmers, designers, artists, marketers, and manufacturing planners. Just as every generation before you embraced technologies to succeed, every company and you must learn to take advantage of AI and do amazing things with an AI copilot by your side. While some worry that AI may take their jobs, someone who expert with AI will. We are at the beginning of a major technology era, like PC, internet, mobile, and cloud. But AI is far more fundamental because every computing layer has a role to play.has been reinvented. From how we write software to how it's processed, AI has reinvented computing from the ground up. In every way, this is a rebirth of the computer industry and a golden opportunity for the companies of Taiwan. You are the foundation and bedrock of the computer industry. Within the next decade, our industry will replace over a trillion dollars of the world's traditional computers with new, accelerated AI computers. My journey started 40 years before yours. 1984 was a perfect year to graduate. I predict that 2023 will be as well. What can I tell you as you begin your journey? Today is the most successful day of your life so far. You're graduating from the National Taiwan University. I was also successful until I started NVIDIA. At NVIDIA, I experienced failures, great big ones, small humiliations.and embarrassing. Many nearly doomed us. Let me tell you three NVIDIA stories that define us today. We founded NVIDIA to create accelerated computing. Our first application was 3D graphics for PC gaming. We invented an unconventional 3D approach called forward texture mapping and curves. Our approach was substantially lower cost. We won a contract with Sega to build their game console, which attracted games for our platform and funded our company. After one year of development, we realized our architecture was the wrong strategy. It was technically poor. And Microsoft was about to announce Windows 95 Direct 3D based on inverse texture mapping and triangles. Many companies were already working on 3D chips to support this standard. If we completed Sega's game console, we would have built inferior technology, be incompatible with Windows, and be too far behind to catch up. But we would be out of money if we didn't finish the contract.Either way, we would be out of business. I contacted the CEO of Sega and explained that our invention was the wrong approach, that Sega should find another partner, and that we could not complete the contract in the console. We had to stop. But I needed Sega to pay us in whole, or NVIDIA would be out of business. I was embarrassed to ask. Irimajiri-san, the CEO of Sega, to his credit and my amazement, agreed. His understanding and generosity gave us six months to live. With that, we built Riva 128, just as we were running out of money. Riva 128 shocked the young 3D market, put us on the map, and saved the company. The strong demand for our chip led me back to Taiwan after leaving at the age of four to meet Morris Chang at TSMC and started a partnership that has lasted 25 years. Confronting our mistake and with humility asking for help, save NVIDIA. These traits...are the hardest for the brightest and most successful, like yourself. In 2007, we announced CUDA GPU Accelerated Computing. Our aspiration was for CUDA to become a programming model that boosts applications from scientific computing and physics simulations to image processing. Creating a new computing model is incredibly hard and rarely done in history. The CPU computing model has been the standard for 60 years since the IBM System 360. CUDA needed developers to write applications and demonstrate the benefits of the GPU. Developers needed a large installed base. And a large CUDA installed base needed customers buying new applications. So to solve the chicken or the egg problem, we used GeForce, our gaming GPU, which already had a large market of gamers, to build the installed base. But the added cost of CUDA was very high. NVIDIA's profits took a huge hit for many years. Our market cap...gap hovered just above $1 billion. We suffered many years of poor performance. Our shareholders were skeptical of CUDA and preferred we focused on improving profitability. But we persevered. We believed the time for accelerated computing would come. We created a conference called GTC and promoted CUDA tirelessly worldwide. Then the applications came. Seismic processing, CT reconstruction, molecular dynamics, particle physics, fluid dynamics, and image processing, one science domain after another, they came. We worked with each developer to write their algorithms and achieved incredible speedups. Then in 2012, AI researchers discovered CUDA. The famous AlexNet trained on GeForce GTX 580 started the Big Bang of AI. Fortunately, we realized the potential of deep learning as a whole new software approach and turned everything.every aspect of our company to advance this new field. We risked everything to pursue deep learning. A decade later, the AI revolution started, and NVIDIA is the engine of AI developers worldwide. We invented CUDA and pioneered accelerated computing and AI, but the journey forged our corporate character to endure the pain and suffering that is always needed to realize a vision. One more story. In 2010, Google aimed to develop Android into a mobile computer with excellent graphics. The phone industry had chip companies with modem expertise. NVIDIA's computing and graphics expertise made us an ideal partner to help build Android. So we entered the mobile chip market. We were instantly successful, and our business and stock price surged. The competition quickly swarmed. Modem chip makers were learning how to build computing chips, and we were learning how to build modems. The phone market is huge.We could fight for share. Instead, we made a hard decision and sacrificed the market. NVIDIA's mission is to build computers to solve problems that ordinary computers cannot. We should dedicate ourselves to realizing our vision and to making a unique contribution. Our strategic retreat paid off. By leaving the phone market, we opened our minds to invent a new one. We imagined creating a new type of computer for robotic computers with neural network processor, safety architectures that run AI algorithms. At the time, this was a $0 billion market. To retreat from a giant phone market to create a $0 billion robotics market. We now have billions of dollars of automotive and robotics business and started a new industry. A retreat does not come easily to the brightest and most successful people like yourself. Yet, you.strategic retreat, sacrifice, deciding what to give up, is at the core, the very core of success. Class of 2023, you're about to go into a world witnessing great change. And just as I was with the PC and chip revolution, you're at the beginning, at the starting line of AI. Every industry will be revolutionized, reborn, ready for new ideas, your ideas. In 40 years, we created the PC, internet, mobile, cloud, and now the AI era. What will you create? Whatever it is, run after it like we did. Run, don't walk. Remember, either you're running for food or you are running from being food. I hope that I can speak Chinese in that place so that everyone can understand.Either you're running for food or you are running from becoming food. And oftentimes you can't tell which. Either way, run. And for your journey, take along some of my learnings. That you will have the humility to confront failure, admit a mistake, and ask for help. You will endure pain and suffering needed to realize your dreams. And you will make sacrifices to dedicate yourself to a life of purpose and doing your life's work. Class of 2023, I extend my heartfelt congratulations to each one of you. Jiā yóu! Thank you. Jiā yóu!\""
      ]
     },
     "execution_count": 1,
     "metadata": {},
     "output_type": "execute_result"
    }
   ],
   "source": [
    "from youtube_audio_transcript import YouTubeAudioTranscript\n",
    "\n",
    "url = 'https://www.youtube.com/watch?v=8p0oCUE3mWE'\n",
    "output_name = 'jenson-2023-ntu-commencement'\n",
    "start_time = '16:10'\n",
    "end_time = '39:00'\n",
    "ytt = YouTubeAudioTranscript(url, output_name)\n",
    "ytt.get_transcript(start_time, end_time)"
   ]
  },
  {
   "cell_type": "code",
   "execution_count": 2,
   "id": "15ac594b",
   "metadata": {},
   "outputs": [
    {
     "data": {
      "text/plain": [
       "\"I'm gonna do a song now that I always loved as a little girl and always used to make me cry. And I want to sing it for you guys tonight. And it's called Without You. Without You I can't forget the scene and all your face as you were leaving But I guess that's just the way the story goes You always smile but in your eyes your sorrow shows Yes, it shows No, I can't forget tomorrow when I think of all my sorrows When I had you there but then I let you go And now it's only fair that I should let you know What you should know I can't live if living is without you I can't liveI can't give anymore Can't live Living without you I can't give I can't give anymore Well, I can't forget The scent of your face As you were leaving But I guess that's just the way The story goes You always smile But in your eyes Your silence shows Yes, it shows I can't live Living without you I can't give I can't give anymore Can't live Living without you I can't give I can't give anymore No, I can't live No, I can't live No, no, no, no, I Can't give anymoreNo, I can't live No, I can't live Living in the sun No, I can't live I can't live Can't give anymore Can't live No, I can't live No, I can't live Thank you for watching!\""
      ]
     },
     "execution_count": 2,
     "metadata": {},
     "output_type": "execute_result"
    }
   ],
   "source": [
    "from youtube_audio_transcript import YouTubeAudioTranscript\n",
    "\n",
    "url = 'https://www.youtube.com/watch?v=Hat1Hc9SNwE'\n",
    "output_name = 'mariah-carey-without-you-live'\n",
    "ytt = YouTubeAudioTranscript(url, output_name)\n",
    "ytt.get_transcript()"
   ]
  },
  {
   "cell_type": "code",
   "execution_count": 3,
   "id": "990c9ad9",
   "metadata": {},
   "outputs": [
    {
     "name": "stderr",
     "output_type": "stream",
     "text": [
      "INFO:root:Opening gooaye-ep352/gooaye-ep352.wav\n",
      "INFO:root:Divided the file into 32 chunks of 100 seconds each.\n",
      "INFO:root:Transcript\n",
      "INFO:root:Transcript\n",
      "INFO:root:Transcript\n",
      "INFO:root:Transcript\n",
      "INFO:root:Transcript\n",
      "INFO:root:Transcript\n",
      "INFO:root:Transcript\n",
      "INFO:root:Transcript\n",
      "INFO:root:Transcript\n",
      "INFO:root:Transcript\n",
      "INFO:root:Transcript\n",
      "INFO:root:Transcript\n",
      "INFO:root:Transcript\n",
      "INFO:root:Transcript\n",
      "INFO:root:Transcript\n",
      "INFO:root:Transcript\n",
      "INFO:root:Transcript\n",
      "INFO:root:Transcript\n",
      "INFO:root:Transcript\n",
      "INFO:root:Transcript\n",
      "INFO:root:Transcript\n",
      "INFO:root:Transcript\n",
      "INFO:root:Transcript\n",
      "INFO:root:Transcript\n",
      "INFO:root:Transcript\n",
      "INFO:root:Transcript\n",
      "INFO:root:Transcript\n",
      "INFO:root:Transcript\n",
      "INFO:root:Transcript\n",
      "INFO:root:Transcript\n",
      "INFO:root:Transcript\n",
      "INFO:root:Transcript\n",
      "INFO:root:Saved transcript to /home/rightson/workspace/youtube-trascriptions/gooaye-ep352.txt\n"
     ]
    },
    {
     "name": "stdout",
     "output_type": "stream",
     "text": [
      "歡迎收聽 古萊維生目共 本集節目由長榮航空贊助 不論網友叫我建議買什麼 一律都說買長榮 5月26號起 長榮航空2023夏季線上旅展 最殺85折起 未稅3萬有找就可以飛歐洲 全家大小一起去旅遊 老婆開心 孩子高興 絕對是最棒的投資 投資有賺有賠 長榮航空特惠穩賺不賠 詳情請見公開說明書 欸不對 是底下連結 好 那這個禮拜的心情就是 爽到說不出話來 就這樣而已 所以其實過去半年的各種委屈難受 檢討黑暗什麼的 就是直接完全的一掃而去 就已經沒有任何的想法 那其實也不會因為說 這次的績效大爆射 然後就覺得自己變得很高興或是膨脹什麼 我覺得我自己成長啦 就在過去一年的磨難之後 可能是過去十年來最大的一個科技回檔 然後可能遭受了蠻大的打擊 然後很快的在半年之後 很奇怪 半年前大家講說 你手上拿回答的 你等於是韭菜 各個粉專都在罵 可是昨天你看各個粉專都在吹 很快那個風向就改變了 現在變成你手上沒有回答的都是白癡 真的是不到半年前 你媽拿回答的都被問說是不是白癡 可是現在風向完全不一樣 但我還是按照自己的原定計畫 反正我在它財報前 我就開始一路的慢慢去降 因為我覺得大家都在吹的時候會出問題 但也不是說把它賣掉 就是把它降回去本來的部位 因為可能從20幾% 漲到他媽4、50%去了 本來想說就留著這樣子 給它繼續放大 可是後來覺得算了還是把它減一減好了 就是照我在節目跟大家分享的 我希望說我的波動的幅度稍微小一點 我換去別的東西 我換去可能像柏通、美光這樣子的東西 去稍微平易一下 所以當然有些東西是減一減的\n",
      "剪在財報前面 然後還噴20幾%嘛 那你說會不會有點惡玩 有一點點 可是其實完全心裡沒有受到太大的影響 就是可能可惜了賣早了 但是你怎麼知道 搞不好財報開出來 有時候成績好 照樣是把它崩嘛 崩你就會想說 欸還好幹我先跑了一點 所以已經開始不會去在意那樣子的東西 我覺得去年幫助我很大 就是以前我可能受到影響的程度 假設是6分到7分的話 就是你賣完馬上噴 然後6分到7分的影響 現在可能剩下2分 就還是繼續認真的去過自己的生活 然後也不忘記去犒賞一下自己 因為這一波 幹這個噴上去真的是不得了 真的是不得了 拿了一小部分出來去買一把吉他 本來想說要去買手錶 但手錶300多萬 幹真的太貴 後來想想算了 去買一個價格1%的吉他 然後稍微的犒賞一下自己 因為可能過去半年真的太煎熬了 然後都沒有讓自己舒服一下 就決定要讓自己舒服一下 那我覺得過去自己半年的心情變化是蠻大的 所以我再稍微多分享一下 因為我覺得有些人可能會發現 這樣的分享是蠻受用的 就是在心理上的一些調整 那其實我自己本來 假設都是歸在家裡做股票的話 我覺得我在過去半年的心理壓力不會這麼大 但是過去半年之所以心理壓力很大 是因為 我們節目不只是可能投資類的第一名 也是整個Podcast總榜上面 就是每一集上傳我們一定都是第一名 然後在全球的Podcast榜上 按照那個Charlotte Ball的排名 我們大概是落在40到60名 有時候我自己會嚇到 就是我自己超愛的一些 國外很紅的藝人主持人 然後他的節目排名竟然在我後面 我自己會嚇到 就是我們的流量其實不低 那當你今天有這樣子的流量的時候 其實你就是背負了一些重量 你就會知道說大家都在看著你 所以當你今天表現不好的時候 我相信我自己去年表現不好\n",
      "我覺得很多時候會懷疑自己 然後想說我到底是不是一個廢物 那其實心理壓力也很大 也會覺得說 如果我這麼廢的話 我乾脆收一收 不要出來害人 就有這樣的一個感覺 那那時候被攻擊的時候呢 也不會像過去可能 因為我自己是一個 還算有自信的人 雖然不是那種很外顯的自信 但是就是默默的知道說 欸 自己還可以 所以當今天可能有時候被酸 或是說被攻擊的時候 你自己心裡面就是知道說 反正你口袋錢也沒有比我多 根本不會在意你在講什麼 可是當你今天可能表現不好 那別人在講這樣的東西的時候呢 我自己是屬於那種 我就會開始去反省說 我到底是不是真的一個廢物 我是不是趕快節目收一收 不要出來害人 就有這樣的一個感覺 那那時候也會有一些憤怒的感覺 就是覺得靠北 為什麼長的時候 你們都不歸功於我 然後第二時候就要大家開始問說 欸他挺損沒 他還套在裡面什麼小的 然後也會在心裡面想說 幹等到老子創新高的時候 一定出來嘴爆你們這些廢物 可是現在真的創新高了 也沒有想要出去嘴爆這些人 就覺得 覺得 喔不知道 就像你那種尻完槍之後 你進入一個那種佛系狀態的感覺 所以我就很認真在思考說 欸到底這些日子的變化是什麼 為什麼會變成這樣子 然後最後面發現 好像也沒有說特別的去做什麼樣改變 就是有點類似說 你接著彈吉他 彈到後來你的手指就會長繭 所以最後面你去捏那個弦的時候就不會痛 或是你可能去握推 推久了你的手上也會長繭 所以你再推就沒有感覺 或是你可能遇到一個渣男 渣久了你最後面發現 幹今天約會對象不是渣男 你還覺得他媽身上有點不對勁的感覺 我覺得一方面是習慣啦 然後一方面可能就是 真正的釋放了自己 所以開頭這邊可能很像心靈台 但是我覺得很多人應該就是缺乏這一點 就是當今天可能面對一些\n",
      "批評跟攻擊的時候 然後他 可能就會覺得非常的憤怒 然後等到他真的可能 可以耀武揚威的時候 因為他最後面轉頭 他是勝利者的時候 他就會跑出去嘴別人 但你跑去嘴別人 其實你就是跳不出那個圈子 那最後面就要記得說 你自己的競爭對手 就是你自己啊 就不要去跟別人比 因為跟別人比真的太痛苦了 幹 像這個輝達跑到爛掉 你以為自己賺很多 結果聽 一個股市猛男跟我講說什麼 有人押輝達的扣 押到那個當量部位是幾十億 賺到爛掉 這真的賺到爛掉 不是說買了幾十億的權利金 就是說那個部位 約等同於幾十億 買了這麼多的一個扣 然後他 噴到爛掉 就你要比比不完 一定都有那種 很誇張的人 所以 當你今天瘋狂地想要跟別人比較 或是你想要證明給別人看的時候 你就是一輩子都不會平靜 所以就像是我可能在 前幾集Q&A有跟大家聊到說 最近比較少學酸民 所以我覺得我真的解脫了 就是我在可能過去 非常煎熬 然後被攻擊 然後到現在 理論上是可以出來反擊 可以出來 秋條一下 可是其實也不想秋條 就覺得算了 我就是 一個韭菜 你們就把我當韭菜好了 你們就把我當成是一個沒有錢的廢物 反正你們怎麼說就怎麼說 那我就繼續分享 我覺得是酷東西的東西 然後給 一些 有興趣的人聽 就這樣 那可能有些人他聽我的東西 就是隨時要找機會攻擊我什麼 這是我也 懶得再去在意了 反正 你說的都對 我說的都屎尿 就媽的老實說是廢物 那 有這樣心態之後 其實我覺得我真的過得非常平靜 像 自己的績效大報社 然後 我做的事情並不是說什麼 馬上去 做一些很誇張的消費 然後或是說 可能打電話跟我媽講 以前我會打電話跟我媽講說 最近賺錢什麼 我現在也不會講 那覺得沒有什麼好講的 然後也可能不會想要跑去一些群組 分享一下\n",
      "丟一下自己的單 因為大家都互相丟嘛 我現在也比較少丟 我就覺得 不是啦 因為總是有人比你會賺嘛 所以應該也沒什麼好比的 那也不會想要去攻擊別人 就是那種本來前面在嘴你的 然後一下子嘴回去 都不會想了 就覺得反正就這樣子吧 還蠻平靜的 就跟我老婆講說 我們出去走一走 然後我就帶她去阿里勘地 就從我們的Travilla開車過去 開大概一個小時 然後就真正的好好地體驗一個下午 就兩個人一直在街上這樣慢慢走 然後聊一些有的沒有的東西 像我就跟她聊到說 上一集Q&A有人問我說 賈曉鷗是不是吃素 那是不是吃葷 那這個 其實一個很大的問題 我跟我老婆討論了大概一個多小時 然後最後面的結論就是 跟尺寸有關係 就是說假設這個東西的尺寸是大的話 在廣義上我們認為說 這就是殺生 就像是我們可能今天在 臉上抹一些酒精 或手上抹一些酒精 或其實你知道你的睫毛上面 有一些小蟲 很小的蟲 或是你的床上其實 枕頭上有一些蟲或什麼小的 那你今天可能在做清潔的時候 你就等於是把它殺掉嘛 但這個算殺生嗎 應該不算 因為它太小了 所以我們根本不知道它的存在 就等於不算殺生 所以當精蟲這麼小的東西 你把它吃掉 應該不算是殺生 但反過來講 如果說精蟲 它尺寸變大 或是你變小 小叮噹把你變小 縮小燈照下去之後 那相對尺度上 精蟲可能變成一個小狗的大小 那當你今天把這個精蟲殺掉的時候 你就是在殺生 那雖然說這個大家可能會覺得有點抽象 但我們這樣說 薩諾斯在貪收紙的時候 你認為他是在殺生嗎 然後或是像是Lovecraft他講的 克蘇魯的這些神 那他們其實都是非常強力的存在 在他們的心目中 人類就是螻蟻般的\n",
      "所以當你今天在造橋鋪路的時候 你可能不小心鏟掉一些蟻窩 你會覺得你在殺生嗎 那當你今天是薩諾斯 你在彈手指的時候 你是一個可以跨星系移動的生物 所以當你今天可能覺得 這些人太多了 他們正在對環境造成浩劫 我彈一下 其實對他來說 可能就只是環境整理而已 所以你假消 因為消對你來說是一個 裡面的蟲對你來說 是一個太小的東西 所以它其實不是殺生 所以我稍微更正一下 我跟我老婆討論之後 我覺得我上一集Q&A回答是錯的 就是假消應該不是殺生 應該不是殺生 這個沒有什麼太大問題 但我們在共識就是說 當今天變成瘦精卵的時候 因為瘦精卵之後 它最後面會長大成人 所以這個階段可能你把它吃掉 那就算是殺生 我不知道怎麼開頭要聊這個 但反正我下午跟老婆聊這個聊很過癮 我覺得稍微跟大家分享一下 那應該都是尺寸的問題 就是當今天尺寸太小的時候 你就像是克蘇魯 你就像是薩諾斯 你鏟除掉那些東西 並沒有別的惡意 你根本不是有那個殺生的範義 所以那應該不算是殺生 然後突然覺得說 其實人生就應該這樣子 我們就是可能看看股票 研究東西過得快樂一點 然後要多花一點心思在家人 或是自己的興趣上 不知道 就我覺得蠻平靜的 所以假設是一直以來聽的聽眾 應該會知道說 我從那個煎熬 然後到現在這種 不知道 就是那種完全解脫的感覺 那個變化 我希望說大家也可以跟我一樣 就是可能不要再栽在裡面 因為 就事業上其實發生的壞事很多 然後會栽在我們自己身上的壞事也很多 就想說幹為什麼是我 為什麼是我遇到這樣的事情 然後有時候你就會轉不出來 你會想要去證明給大家看 你會想要證明你自己 然後終於發現其實不用對任何人證明 你的老婆喜歡你就好 你的小孩喜歡你就好 真的是這樣子 所以開頭先跟大家聊一下 我自己的一些心情變化 好的接下來我們就來稍微聊一下\n",
      "輝達這一次的財報真的是一個 可圈可點非常好的一個財報 然後指引也給的非常的好 按照我自己的理解 其實輝達他在下半年 他的H100才會大量的跑出來 也就是說Q1這個成績是有一點超出預期 不應該Q1開這麼好 如果Q1開這樣的話 Q2 Q3 Q4應該會有很震撼的成績 但我自己先講結論 我認為現在你看到輝達 可以噴什麼20幾%這麼小 那個就是在反映後面的東西了 因為我都想到了 我不相信華爾街的人不會想到 就是H100其實他最主要的頭片都是在下半年 所以下半年這些東西會灌進來 然後現在等於直接拉過去了 所以之後可能會看到的狀況 我自己猜啦 會像是可能台積電600多的時候 然後那時候可能開一些好成績 大家想說靠北 他那個營收這麼好 怎麼股價都不會漲 因為他前面直接一波拉完的 我自己猜測會是長這樣的一個狀況 但是我也可能錯 我不要去做太多的假設 反正部位就是hold在那邊 也不會說什麼 這是絕對的高點 馬上把所有東西砍掉 但是我是覺得 可能相當程度的 已經去反映了這樣的一個東西 那我們這一集就從上游到供應鏈 都去做一個比較完整的剖析 我會拋一些數字 這些數字假設是有問題的 歡迎來信跟我講 因為其實在市場上有各式各樣的聲音 其實我自己也只能夠去做判斷 去挑出我認為是比較合理的一些數字 來跟大家分享 不然說像前面跟大家提到的 大多數的H100會在下半年出來 就我了解到是七八成以上 所以2H一定會比1H好 1H開的成績假設非常暴利的話 那2H就會更加加倍的暴利 那只是可能有些人聽到2H的投片量 就來說可能是七成 有些人聽到是八成 有些聽到九成\n",
      "那可能大家的說法會不太一樣 但可能差不多共識是那樣子 不過就是說假設你有一個更準確的數字 那也歡迎你來跟我分享一下你的一些想法 直接私訊我就可以了 那我稍微來聊一下 我最近知道一些東西 就是說他到底在這個生意裡面有多賺錢的 那首先我們有注意到一個報導有提到 魏哲嘉聊到說 他賣人家一個晶片賣600多枚 然後這位朋友呢 他的伺服器拿出去賣的時候是賣20幾萬枚 所以這樣子我們到底是不是朋友 我賣你這樣一個價格 然後幹你賺到爛掉 然後你可能還要再跟我抱怨說 欸你價格太貴 你那邊漲價 其實看得懂這個故事的人就會知道 他應該是在講黃仁勳啦 然後因為黃仁勳就是在過去最常靠北 台積電現在漲價漲到太貴的一個人 然後中間被大家發現靠北他自己賺到爛掉 但以他身為一個老闆的角度 他當然會盡可能的去對供應鏈壓榨嘛 廢話那個毛利多榨一點就是自己的 不過其實不是像可能 本來大家看到新聞這樣說 老黃的毛利應該都準備被吃光 都被台積電吃光 不是這樣子 因為從他財報注意到說 幹他真的賺到爛掉 那我們稍微講一下 他整個架構是長什麼樣子 那這個報導裡面其實有提到說 他那個晶片是賣600多枚 那個晶片是 H100的GPU 就是說單顆的GPU是這樣的一個價格 可是實際上 輝達付出的價格不只是這樣子 因為單顆GPU 他不能直接拿來用 他還是要經過先進封裝嘛 然後可能要把一些PMIC接進去 然後一些記憶體要弄進去什麼小的 然後最後面呢 他出給輝達的時候 就是CoreOS封裝完的東西 那一個輝達的售價是2萬多枚 所以台積電賣他600枚的 那個是一個晶片 那可是封裝完之後 輝達售價是2萬多枚 那台積電\n",
      "在封裝完之後它的售價是多少呢 就我理解是那個2萬多美 輝達的售價去打兩折 然後兩折是輝達的成本 那成本裡面有一半是給台積電 也就是說老黃一直提到的 台積電漲價很貴 就是在講它這個兩成的一半 它被漲價 他覺得他的毛利被吃到 它的形狀是長這樣子 所以大家就可以大概推一下說 因為台積電在這個晶片上面 它組出來之後是賺多少錢 然後輝達是賺多少錢 然後它這個晶片組可以賣多少錢 那它這個晶片組拿出去賣人的時候 它就是出給像是SMCI這樣的一個 伺服器組裝廠 那它就是把8個H100組在一起 拿去賣 那就我理解到它拿去賣的價格 是大概40幾萬美 那同時還有另外一個關鍵的供應商 偽創 那偽創它不是像SMCI 它是對一般的可能 business去做銷售 它是給輝達 它等於說把它組起來之後 然後賣給輝達 然後輝達再把這個東西賣給客戶 那偽創的價格是20幾萬美 所以就直接是比SMCI少了一半 那輝達拿到這個20幾萬美的機子之後 他拿去轉賣 就整個系統包起來拿去賣 是賣90幾萬美 就我理解是80幾萬到90幾萬美 所以你就可以知道說 老黃在這個生意上面有多賺錢 那目前市場上還有在講說 像技嘉 他也是AI的一個受惠之一 那他的角色可能會比較偏向 SMCI就是Supermicro 美超微的一個角色 他組裝然後去賣 所以他類似是一個通路商的感覺 所以你可以把它想像成 他們就像是以前傳統的那種顯卡廠商 就是說我跟你買晶片 然後把它做成一個顯卡拿去賣人 差不多這樣的一個味道 只是這個晶片不一定拿得到 所以假設你可以跟技嘉\n",
      "或是SMCI買的話 可能就比較便宜一點 但是你不一定拿到晶片 那為什麼現在會 像輝達自己可以賣90幾萬美 為什麼要讓這個通路商去賣呢 因為最主要原因是 現在尾創的產能還不夠 所以等到尾創的產能 假設可以拉起來的話 不知道 數難想像 輝達會繼續讓這兩家去賣了 就可能會開始有一些供貨的控制 所以這邊可能會缺貨 但是比較便宜 那在輝達這邊買呢 不會缺貨 可是價格是比較貴 可能是漲這樣的一個情狀 先講一下 大致上是長這樣 那其實在裡面的 規格提升或什麼 這我們在過去都跟大家聊過 就是說 整個這種AI型的伺服器 訓練用的伺服器 H100伺服器呢 它的單價是非常高的 所以即便可能在bone cost裡面 老黃是佔掉七八成 然後剩下的可能兩三成是大家分 這個比傳統的CPU伺服器 按%數來看 好像供應鏈分到比較少 但是因為它的總價是非常高的 所以其實供應鏈會分到的份額 不一定比較少 就假設說它在老黃這邊的 純度很高的話 它說不定更賺錢的 它量是變少了沒錯 但是因為單價是更高的 因為整個bone cost是更高的 那只是這邊可能要注意一個陷阱 就是在過去幾集有跟大家聊到說 可能在AI伺服器拉升之後 會排擠到傳統伺服器的話題 那這個話題呢 一樣我也先講我自己認為的結論 就是說它是一個 短期被低估 可是長期被高估的事情 什麼叫短期被低估呢 因為各個這些雲服務的提供商 或是大企業 當他們今天決定要開始去 買進更多的AI伺服器的時候 你要知道它的CAPEX就是這樣 它資本支出的量就是這麼大 所以今天你要去買很貴的AI伺服器 你一定會排擠掉\n",
      "你本來可能針對傳統伺服器的一個投資 所以你可能會在AI伺服器這邊 多下個幾台 可是你就砍掉一堆傳統伺服器 那這個東西其實對於一些供應鏈來講是很傷的 因為它可能本身的營收裡面 有很多是所謂的傳統伺服器 然後AI伺服器它是有沾到沒錯 但它等於說此消彼長 AI伺服器它感覺是有賺到錢 可是它在傳統伺服器掉很多單 這個是以目前看起來 它在市場上可能被低估的事情 因為現在有很多所謂的伺服器概念股都一起噴 但是他們其實蠻多 不一定是真正受惠到AI的伺服器 因為它就算有AI伺服器 可是它可能在傳統伺服器這邊 因為大家CAPEX是一樣的 所以它可能會掉一些單 所以這個可能是市場上在短期內 不一定有完全反映到的東西 可是長期來看我認為是 影響被高估的原因是因為 如果說按照原調 然後跟這些雲端大企業的預估 就是說2023我們都知道 它可能是一個negative year on year 它是一個表現不好的一年 可是在2024就是會重回成長 那這個成長其實不會因為 AI的伺服器而消失掉 因為AI伺服器它拿來的目的 就是去訓練模型 它主要是訓練用的 那推論用的就是我之前跟大家提到的ASIC晶片 可能之後推論就是用 各家自己的ASIC晶片為主 但那個發酵我猜是一年之後 但我自己就等於說搶先先去佈局一點 那可是訓練的就是說 大家可能搶在這一年趕快去把這個貨拉起來 但不代表說 它之後不會有本來雲端資料中心伺服器的需求 它還是會有那個需求 它只是額外的多了一個AI的分支任務 所以可能在今年 因為大家都在搶 所以我的CAPEX就這麼多 我先分一點過去AI 可是在明年我覺得就會重新回到一個\n",
      "一個正常的拉貨 也就是說 長期來看 不會因為這個排擠效應 而造成一些傳統伺服器的供應鏈 好像就此就會進入一個死局 就是它可能不像大家想像這麼可怕 可是短期可能是沒有被估到的 那所以也因為這樣的一些想法 我覺得 在接下來的AI的股票變化 可能會產生一些分歧 就是那些真正受惠於 GPU伺服器的公司 它可能在CPU伺服器的份額沒有很大 可能是新進入的廠商 就像是偽創這樣子 因為這個GPU伺服器 它等於是一個最大受惠者 它可能可以撐得比較久一點 那可能像是通路商這樣子的技嘉 或是SMCI 假設輝達這邊 有辦法拿到大量的產能的話 它還有必要去讓這些通路去賣嗎 我自己會稍微打一個問號 但不是說他們不行 就是說他們還是有很多產品線 像技嘉這邊在他們法說就是提到 他們還是有AMD的東西或什麼 所以可能對 就是最後面輝達這邊 搞不好會卡它 但它還是可以賣AMD的MI系列 或是可能不知道 有些人可能去賣Intel的 Pontiac Vacuum系列 這也是他們的GPU伺服器 雖然可能現在大家對於AMD跟Intel的 GPU系列都沒有抱任何的期待 不過那個東西可能也是有 補動的一個效果 再來可能一些伺服器的材料 載板 或是說散熱相關的 就要去注意說 因為它前面跟著大家一起上來 但如果開始被大家發現說 靠北 它在CPU這邊掉的單機是掉很多的 那GPU這邊補動補不回來 搞不好就會呈現一個骨架的分歧走勢 所以這是我 大概想了一下跟朋友討論一下 我們認為說可能會發生的一個狀況 也因此去做一些部位的調整\n",
      "就是說我們不太會去靠感覺 一般就是可能你要有個分析 這個分析不一定會中 但是你知道你自己是有分析 你是有憑有據的 所以假設要去做修正的話 也是比較好調整 不會說最後面變成進退十句這樣子 那簡而言之呢 就是前面講那些東西 我想一堆人應該很想睡覺 我們先講結論 結論就是輝達絕對是非常看好 其實我一直以來都是輝達的大隊長 就是我對他非常看好 那只是我開始認為說他產生一些隱憂 第一個就是說估值層面 因為現在每個人都覺得他非常好 當然我們不是故意要跟大家反著做 你也知道說有時候 大家都覺得很好的東西 像可能特斯拉 大家都覺得他很好 他就真的一路漲 他就有可能就會繼續一路漲的 只是跟自己過去的習慣不太一樣 就這個標的一般是要被唱衰的 然後現在大家竟然都覺得他很好 所以搞不好就有一點那種 可能未來估值會修正的一個可能性 因為不是說他沒噴 他噴很多 所以有沒有可能 他現在一次反應了後面的東西 這個是我自己第一個假設 那第二個就是說 CPU的伺服器在今年的表現 可能會比想像中的再更差一點 因為你從輝達他直接超越Intel 他變成最大的伺服器的營收佔比者 然後外加他交出一個超乎預料的成績單 然後以及在二三四季表現 可能都會比現在更好 你就知道說他排擠的效應 應該是比想像中大 所以大家今年的CAPEX就是這麼大 大家拉了這麼多的GPU伺服器 代表CPU伺服器一定被吃掉很多 至少在今年來看是這樣子 那只是在明年可能就會回到一個 比較正常的狀況 那第三項就是不確定什麼時候會發生 但是我們都知道說AI的模型 可能未必會繼續去追求 往更大更強的方向走 因為在國會的聽證會上 OpenAI就提到說 他們可能不會再 繼續 nails\n",
      "的一段時間內推出GP15 那我們也注意到在 Google的發表會裡面有提到 它的那個模型就是從大到小 小可能就是丟到中端的 這種Edge的裝置上面去 它可以用比較小的模型 可是達到類似的效果 所以AI的模型可能未必會去追求 要用超級巨大龐大的算力 然後越算越強 因為可能發現 不需要到那樣子 就可以達到效果了 所以可能在訓練電腦的拉貨 會著重在這一兩年 假設是針對客戶端來說 那可能在未來的一兩年之後 就會變成輝達自己拉貨吧 因為它有一個DGX Cloud的服務 那這個服務就是給中小型的業者 因為他沒有辦法自己去搞一個 資料中心或是他自己去搞 自己的算力 他就是用租借的方式 他跟輝達用租的方式 那輝達一定是要養自己的伺服器 所以他可能最後就變成 他自己拉貨自己的東西 也不是說這個訓練電腦的需求 在大家都不需要訓練模型之後 就會消失 因為輝達可以自己擴充 只是可能它會出現一個轉折 從本來大家聚焦在 H100這種訓練電腦 然後到可能之後會開始聚焦在 Inference的Edge相關的項目 所以推論晶片我覺得它是 未來的一個大宗 它的價格一定是比較便宜 可是它的量會是大的 就類似說我們今天在注意一些 可以去拯救市場的東西 我們一般不太跟你講2B的東西 因為2B的東西量比較小 一般都是2C的東西 它量才可以大 所以這些推論晶片 可能是放在一些智慧裝置 物聯網或是手機裡面的 那它可能在之後會是一個 重要的看點 這也說什麼我覺得一些AC公司 或是幫這些科技巨頭服務的 然後一起去產出 不管是RISC-V晶片 或是ARM-BASE晶片的這些公司 未來都可以稍微注意一下 因為可能我們會開始從 中華音響 Brasilia.com.trn\n",
      "這個training 然後去往influence去移動 但這個時間點我不確定 我真的不知道 就像可能我自己雖然持有揮打很久 但是我也不知道CHPT會突然冒出來 有時候就是可能一個東風來就發生了 那我們既然不知道什麼時候會發生 我們就是先讓自己曝險一點進去 就先放進去等 就等看看 那這就是為什麼我會做一些部位調整的原因 所以這邊稍微的跟大家分享一下 那我在這集之前 我就有先跟我一個朋友講說 我這一集會先出來分享我的著見 然後那個著是守字旁的 就是我覺得我的這個分享 可能未必是很完整的 但是我就先丟出來不管 那搞不好就會有一些聽眾來給我feedback 雖然我們自己其實有一些管道可以check一些事情 但是這個東西因為大家都還在探索 所以其實有蠻多的未知 那就算是一些產業人士 可能也沒有辦法跟大家講得很精準 像可能前陣子不是有蠻多分析師在吐槽說 這個台積電的預測不準 已經不可以參考或什麼的 然後最近那個分析師他有改變說法 就說這個公司的說法可能是對的 江海是老的辣 公司派可能這個下半年預計的單會進來 是真的會發生 但雖然他現在改變說法 然後他之前在質疑公司的時候 我也講說應該是要以公司為主 但現在我真的不知道嘴他 就是我要跟大家強調一下 我覺得在坊間分享的人 每個我都是非常敬重 就是大家都是出來分享自己的意見 其實每個人都是對自己很有幫助 但是我稍微講一下我自己的意見 我認為 對 就是我們應該多相信一點公司派 可是不代表輝達的這個單進來 他的AI單進來 他可以把台積電的洞補起來 因為目前我們注意到的狀況是 下半年的手機還有在繼續砍單 那這砍單的量是很大的 他應該是沒有辦法 靠 就像說我前面已經把H100的數字都報給你了 你去乘看看就知道了 那個營收推進去裡面 那個是個位數%數 明面有段視頻就看起來很容易砍起來 就在業務上 對那 engineer啊 他會非常小心 不是要他說 so you go 豁出去 有人小心\n",
      "就沒辦法去把那些肯單給補回來 所以呢 可能還是需要一些白馬王子 目前知道說有像Bitman 比特大陸 然後或是 不知道就是可能我跟大家提到的 那幾個科技巨頭的ASIC 比較快的可能就是特斯拉 進行中的可能就是Anaprana跟TPU 如果說大家都有辦法進來卡的話 那真的就可能像 其實台積電公司派早就跟你講了 他就說HPC他未來是會比手機好 他們早就這樣講了 那就看有沒有辦法把這個洞補起來 但看起來市場好像沒有特別在意 反正就是台積電也在 過去幾天表現非常好 然後可能真的下半年可以靠這些AI晶片 直接把洞補回來 搞不好他早就看到了 有可能就像我在想說 幹老黃他在股票100多塊的時候 他不是跑去亂錄一個人的直播嗎 然後看起來老神在在 那時候大家都覺得回答是垃圾 搞不好他早就知道你們這些韭菜 之後面全部都要追回來之類的 有可能 所以 對我還是會比較著重 公司派的一個分享 因為他們可能對一些業界消息的掌握 是更好的 那同時我去參考一些 業內分析師他們的一些說法 然後去和自己了解到的東西 去做一些綜合的評量 那最後面可能就是丟出 我認為的劇本是這樣跟大家分享 那如果可以的話 我們就有更多進一步的討論 所以 這集我們不會去聚焦在跟大家講 惠達成績多好什麼 因為那個你自己上網看就好 就是我現在已經越來越不喜歡 去分享量化的東西 因為我發現這個東西現在好像在市場裡面 大家是在拼時效性一樣 每次這個財報開牌 真的是各家都是比誰 更快的去寫出這個量化數據的分析 那我覺得這個已經是一個鴻海市場了 很多地方都會看到這樣子的討論 所以我們就偏向去聊一些展望面 然後一些可能質化分析的部分 那希望對大家有一些幫助 其實我也還在整理我自己的思緒 不過就是直接把我自己目前想到的 財報跟你聊的就比較譜\n",
      "跟大家分享一下 好 那自己去問一下 這位我們家Nyuan Q的部分 第一位 只是個讀書人 他說 城市中的迷途小書筒 聽完美肌古來之後 對於孟公的景仰 猶如滔滔江水連綿不絕 又猶如黃河氾濫一發而不可收拾 請問可以跟卓偉 燒黃紙做兄弟嗎 自從聽了卓偉爆牌之後 我就偷偷對著公司 廁所的牆壁發誓 如果未來股票有賺錢 就買當期的業配商品 來當作祭品 就像卓偉常說的 如果突然過得太順風順水 總要找個地方花錢消災解厄 也這邊提醒各位大德 麻煩有自知之明一點 該捐獻的還是要捐獻 By the way 誰在說我孟公長得很健康 試看看 明明看起來就是很長壽的樣子 根本沒有人說我長得很健康 只有你 燒你媽黃紙 下面一位這個 iPhone21 Pro Plus Max 8TB 他說 欸欸啊矮 矮哥好 請問你在GTA裡面 有特別喜歡什麼樣的車嗎 還是跟現實中一樣 對車子沒有什麼興趣 對了 你最近聽起來心情都很不錯耶 前陣子不知道怎麼的 感覺念QA都念到有火氣 祝你開心啊 謝愛大 我在GTA裡面 我比較喜歡玩飛機飛來飛去 然後去挑戰各式各樣 很奇怪的地方降落 就是開客機 然後可能 在山上的一個小道降落之類的 我玩那個什麼 模擬飛行我也是玩這樣子的 就是去最小的機場 在喜馬拉雅那邊 然後開超大的飛機 那是我小小的興趣 那車子呢 我就是把所有車子買到滿而已 那開個兩分鐘之後 可能就換下一台 類似這樣 然後後來很快就沒有興趣了 所以呢 遊戲不可以太快封頂 想想這個跟人生有點像 假設你太快封頂的話 其實是一個詛咒耶 因為你就再也不會有任何的熱忱 那為什麼我的遊戲會封頂呢 其實鯊魚卡本身 我之前是有課 但是我後來有遇到中國 然後我發現 我自己的遊戲 我自己的遊戲 我自己的遊戲 我自己的遊戲 我自己的遊戲 我自己的遊戲 我自己的遊戲 我自己的遊戲 我自己的遊戲 我自己的遊戲 我自己的遊戲 我自己的遊戲\n",
      "我的外掛仔 幹他超屌的喔 他直接當聖誕老人 然後他就在 反正GTA的遊戲是 可能每個遊戲房裡面會有二三十個人 然後你每次開啟新的遊戲 你可能就會跑到新的遊戲房 然後有一次我 加進去的遊戲房呢 就有一個中國老鐵 他瘋狂的送大家錢 所以我在裡面就是 不只是財富自由 是那種比爾蓋茲的等級 所以我什麼東西都可以買到 然後後來 我覺得這真的破壞我的遊戲體驗 一開始很爽 但是後來全部東西都刷一輪之後就 就覺得這遊戲沒有這麼好玩了 那再來他說 我是不是念QA念到有火氣 不是啊 我念QA都是很開心的 所以有火氣的可能會是 可能前面節目的片段或什麼 但是其實回答大家問題 都是滿開心的 那有時候面對那種 來踩你來吐你 可能會有一點不爽 可是其實也不會到有火氣 就這個東西 對我的心情是不會有影響 那當然有可能就是 最近真的過太滋潤 像這個KK01272618 他說大風大浪卡在浪頂 今天陽明股東會發佈鼓勵 也是一股二十 依照現在股價殖利率是32% 好誘人 但今年的營收已經回到了 2019年的水準 那並沒有繼續爆賺 如果現在買來領鼓勵之後 會不會有可能回到之前不發鼓勵的狀況 想問問大家怎麼看 很有可能 非常有可能 那其實真的不要一直在看鼓勵 台灣人這一點 我覺得真的是被部分的投信 然後還有媒體洗腦到 變得跟智障一樣 就是投資報酬率絕對不是 只看鼓勵 很多人都有這樣的一個盲點 你看投資報酬率 唯一一個看法 就是看一個東西的韓息報酬 對鼓勵可以視為報酬 但是如果鼓勵發給你之後 沒有填息 那個不是報酬 好不好 就是他可能就要說 300塊的\n",
      "然後每年配30給你 配到最後面 幹他剩下什麼50塊 然後你領的股利加 他的那個50塊 他最後面根本就沒有比你當時的成本來得高 所以你根本就是沒有賺錢 他有配給你 但是你沒有賺錢 有點類似說有些 這個基金廣告不是在下面寫嗎 你的配息可能來自於你的本金 就是那樣的一個狀況 所以一定是要看韓息的報酬 那韓息的報酬要怎麼樣才可以繼續推高呢 很重要一點就是公司要持續不停的賺錢 所以只看配息會有陷阱 因為美國也會有這樣的陷阱題 就是他給你超高的配息 他就配這一次之後都沒了 然後可能就一路崩崩到底 所以配息當然有的話很好 可是最重要就是要看韓息報酬率 然後去找那種還原全息的圖 然後去看一下 韓這個配息他的報酬是多少 他的資本利得是多少 就算完全沒有配息的東西 資本利得一直往上漲 這你也是賺錢嘛 那就算是都不會漲的 可是每年都可以填息的 那這個配息也是你的報酬嘛 可是就是有那一種他一直跌 然後他也沒有在填息的 那這個配息不管配多高都是假的 所以千萬不要只看配息 要看還原全息的報酬 這個非常重要 可是我不知道為什麼 就是大家都不跟市場上的人 分享這樣子的東西 就一堆都是在給你洗腦說 就是買高配息就對了 這他媽腦袋有問題 下面為這個 hjuhyb他說 秋口幹你娘幫i大清槍 i大好請問 歐洲居民有習慣用4G網路吃到飽嗎 下半年要搬去奧地利 也好奇Starlink這種東西 有沒有在二手的 二 以新手小白來說 操作00675波段的策略 是不是有機會打贏大多數人呢 掛好能夠承受的波動大 如果今年年初開始報到 現在可能已經35%了 好 那 starters let's start 這port none 請問一下 這個 誰 марc\n",
      "一個網路吃到飽 對 很常見 就是這邊網路是很常見的 但當然我說的網路有點問題 是那種什麼家用WiFi 或什麼小的 就有時候它就真的會斷掉 就是在基礎建設上面 我相信有來歐洲的朋友 應該都會非常有感 假設我們說韓國是100分的話 就真的超強 那台灣可能就是有個95分吧 那歐洲可能就是70分 80分吧 那如果是東西壞掉的時候 你會非常痛苦 就基本上你是找不到人修的 所以這就是我不喜歡的地方 但是你說手機網路吃到飽 有啦 這到處都有 那Starlink有沒有在賣二手 我不清楚 然後它下面說 675的波段是不是有機會打贏大多數人 應該這樣說 你只要買大盤 你就是贏大多數人 長期來看 這個不是我們瞎吹的 這個是有數據支持的 你去找一下 Vanguard的SPIVA 它是一個年度的統計 它會統計說 被動型的大型基金 Versus主動型的基金表現 然後它就會去算出說 今年有多少人是贏過Vanguard 當然在短期上來看 其實你都會注意到 有蠻多基金可以打敗大盤 可是拉到它的長期統計 超過10年以上可以贏過大盤的基金 是在10%以下 所以一般投資人 你可以類推這樣的數據 就是長期要贏過大盤的人是10%以下 所以你在一年內 就是你說什麼今年做675 廢話 675是兩倍的大盤 所以它當然會贏過大盤 它當然會贏過大多數人 因為今年大盤至今表現是不錯的 它又開了兩倍 它絕對是屌打大多數人 可是你反過來想 你是在去年的3D買機 你現在就是屌輸大多數人 因為你是兩倍往下撞 所以看投資表現 一般不會只看一年 一定是要看長一點 那兩倍的東西就是 你承擔更大的波動 然後承擔更大的風險 來換取可能更高的報酬 是\n",
      "這是兩倍商品的一個意涵 它其實這個兩倍的本質 不可以視為是Alpha 因為你是用了更多的風險 跟Drawdown來換取報酬 所以你只能夠想成 這個就是一個 兩倍Beta的一個策略 類似這樣 所以它 不能夠算是 就是你靠操作這個東西 讓你贏過大多數人 因為你也承擔了 比大多數人多了一倍的風險 大概是這樣的一個感覺 那我覺得如果拿來放在配置裡面 可能是可以的啦 只是要直接全部丟進去操作的話 你只看今年就不準 因為今年就多頭年嘛 下面會這個 登入就送五星 他說 悟聽性股市名牌 投資觀念聽股癌 然後後面被卡掉 最安安感謝您無私的觀念分享 近期股票大噴 妖魔鬼怪群組又出來作怪了 以前我都直接退出 現在我都會把群組標題改成 悟聽性股市名牌 投資觀念聽股癌 懶人投資選0050 然後再把加入我入群的 股票老師踢出群組 分享這個好方法給各位 希望大家可以形成善的循環 最後 最愛大家一家平安上廁所 都有衛生紙 我知道這個人是好心 就像是之前 有一個QA講說什麼 祝她的男朋友早日畢業的 後來她有在IG上面私訊我 她說是研究所畢業啦什麼的 然後她也私訊我一張圖 就想說 我現在都在外面幫你傳道 她卻好事多放股癌的節目 就用人家的電腦 幹 我跟你講 你們這種都是來害的 就是你們以為在幫我 可是你們是來害的 我想說我被詐騙鎖定 是不是就是你啊 雖然詐騙是鎖定一堆人啦 但前陣子有段時間 他們專門在找我 就是用我的照片 用我的影片 用什麼小的 那其實 大家知道AI的魔力嘛 可能你之後還會聽到我的聲音 詐騙拿去AI刷一刷之後 然後拿出來騙大家 大家真的要非常小心 要認明正版 那 對 就是你們這樣搞 我會幫你們\n",
      "招黑啦 不要這樣子 那對 他這個方法是很不錯 就是被加進去之後 其實可以把群組裡面的人全部踢走 我自己偶爾被加進去 我也會就是順手去做這樣的一個功德 那下面這個天母謝孟公 他說愛輝達愛孟公 本來起床下面可以站10分鐘 看到輝達噴發直接軟掉 禮拜六老黃要來學校畢業典禮演講 這下非去不可了 感謝i大大上級推出 祝i大大生日快樂 績效爆射 另外i大大可以祝我畢業順利 那還有6月27號生日的女友 Ruby 與佩生日快樂嗎 祝天母謝孟公他的Ruby與佩 女朋友生日快樂 應該是台大的學生吧 老黃要去演講 那個演講稿呢 在我現在的這個時間 就是羅馬時間早上9點16分 我剛已經把它看完了 是一個還蠻激勵人心的演講 下面這個openheimer他說 some mysteries are best left unsolved 嗨i大大 若未來台海地緣政治風險持續增加 你會選擇定居國外還是留在台灣呢 一般市井小民可能多數 只想職涯跟資產能夠繼續累積 是否海外的工作是最佳避險做法呢 那另外推推Apple TV 最近的一個新影集 末日地堡 源自小說羊毛記四部曲 若喜歡The Last of Us 末日題材觀眾說不定也會愛上 那這邊提供台大小說創作的一些靈感 祝福台大節目長紅 在座下個十年百美 集必聽的觀眾路過 非常感謝 那對在去年有蠻多 我們先講投資圈內的朋友 有些不是自己的朋友 有些朋友的朋友 但是就聽到有蠻多 就是跑去辦了一個國外的公民 因為他們覺得可能是有問題 那你說我自己會怎麼樣選 我覺得我不會想要去定居國外 因為如果是的話 我早就定居國外了\n",
      "我就不會一直飛回台灣了嘛 我覺得在台灣還是 蠻開心的 就是我在台灣過得很快樂 只是你說假設真的發生戰爭還怎麼樣 我覺得我唯一會考量的是我兒子 就是我兒子可能我會希望他平安健康 就這樣 我覺得每個父母都是這樣希望的 那我自己呢 我老實講我真的不在意 我會覺得 如果今天是要打 大家氣氛對了 然後就來打 如果說今天可能覺得 我在這邊沒有意義 那我可能就會離開 我沒有辦法跟大家講答案 而且我也覺得沒有人有資格 可以跟大家講答案 我就坦白跟大家講 在資訊圈內 有點懂事情的人都知道 一堆在跟你喊抗中保台的 我們當然要抗中保台 只是很多人喊的一副 就是他媽他會衝第一的嘛 那小孩子是美國人 好幾個都是 等爆料 大家默默的等爆料 好幾個粉專在那邊昂瞎的 大家默默的等 那小朋友都是美國人 我還是要強調 你小朋友要跑去美國生 當然沒有問題 你身為父親 身為母親 我們幫小朋友去決定一條不一樣的路 OK 這個都是很合理的事情 但是如果你的小孩是這樣做選擇 你就不應該一直叫人家說什麼 幹 你要去拋頭顱灑熱血 我覺得這個就是很不對的東西 所以我覺得小朋友呢 我會希望他不要受傷 是這樣子 那我自己呢 我老實講真的不太在意 有時候會覺得 不知道發生一些大事 可能也是不錯的 所以自己能夠參與到 可能也是一個蠻讚的事情 我自己真的 不知道我會怎麼樣做選擇 目前是這樣 但是如果我真的怕的話 我只好去國外了 所以我是覺得還好 那一般人呢 你說你要不要就這樣跑去國外 你會怕你就去啊 那你不會怕就留下來 其實道理就這麼簡單 每個人都應該有自己的選擇 那只是要跟大家講 你在國外的生活 可能會跟你想的不太一樣 很多人對國外都會掛上一個神奇的濾鏡 粉色濾鏡 然後覺得外面一定會比較好 你在台灣的生活 假設都沒有過得很好的話 你去國外應該是不會過更好 好 因為我自己的生活是比較偏向於外國人的 所以我自己的生活是比較偏向於外國人的 所以我自己的生活是比較偏向於外國人的 所以我自己的生活是比較偏向於外國人的 所以我自己的生活是比較偏向於外國人的\n",
      "因為你的語言不通 人生地不熟 人脈什麼都沒有 你到那邊可能就是只能夠做最低等的工作 是這樣 那可能你是有能力的跑去國外 那不一定 只是我認為說 就不要有這樣的幻想 你哪邊舒服就待在哪邊 其實各地都可能會有風險 就你不要覺得說什麼 現在跑去國外就是沒有風險 誰跟你講的 剛剛那個歐洲現在在打 他們正在打 你說那個會不會擴張 他們打到其他國家 他們一直在講說 怎麼台灣會被中共幹 結果後來他們自己先被幹 我覺得是蠻有機會的 就是很多東西真的不能說死 你最後發現說 其實對很多什麼國際情勢的判斷 跟預測什麼小的 一堆根本就不是按照大家預測的方向去進行 所以我自己是不會對於說什麼 台海打起來感覺到很悲觀 擦槍走火什麼 我覺得是有可能的 只是你說要打下來 要怎麼把整個島清光 這個真的想太多 你看那個惡霧戰爭之後就知道 不是說什麼要清敵或什麼小 就是有時候我們盡量用一些 比較理性的角度去看事情 不要用一堆什麼撒狗血 什麼小的東西 然後跟大家洗腦或什麼的 你理性一點看 然後去做判斷會比較容易一點 那我會認為說大家都應該去做 適合自己的選項就好 像我就覺得我不會想去定居國外 那可是你說你要我把我的兒子 我養大的送去打仗 我還真的也不希望 我就坦白這樣跟大家講 所以我覺得兒子是我最主要的一個考量 那我自己呢沒差 下面這個 腳麻要怎麼逃 他說五星擁護i主席 感謝來大的分享 想問一下大家有沒有想投資的公司 但沒有上市上櫃的呢 我的話是全聯跟義美 會選擇這兩間是因為全聯的運作模式 自己比較了解 認為相對於同行有相當高的競爭優勢 而義美則是好吃 Nice pick 我覺得這兩個都是很不錯的選項 那我自己會想要投的話是Steam吧 我早就想要投Steam 我真的很喜歡Steam 那它是一個很好的一個平台\n",
      "一個遊戲的選購平台 遊戲平台 那大家都說玩遊戲是一個體驗 可是同時呢 蒐集遊戲本身也是一個體驗 我相信我們的飛齋朋友 大家應該在Steam裡面都超過百款以上的遊戲 每次下特跟東特都罵進去 直接把它刷到爆掉 那如果這個遊戲公司 他可以讓我投資的話 我會非常想要投資他 他除了有這個平台之外呢 那他也有自己的一個 就是像Steam Deck這樣的東西 他有在做硬體啊 那這家公司目前就是沒有上市 如果他上市的話 我會覺得非常有興趣 下面這個陳YM他說 Baby shot do do do do do do 請問愛大未來TSM的產能 足夠AI server和其他的HPC用嗎 會不會排擠到其他的HPC 導致未來手機復蘇之後 搶不到晶片的產能 重演供應鏈緊張 祝諾亞快快睡過夜 愛大持股慢慢漲過山 短期內應該是還好 但長期這樣的劇本是蠻有可能發生的 那我才會在上一集 還上上一集的節目跟大家聊到說 雖然一下他call這個太早 就是台積電還在吊價洞 但是我認為他應該很快在前端的製程 就會再一次的供不應求 因為大家會去搶 所以call的太早了 但是我覺得會這樣子 所以就是做相應的佈局 你知道投資裡面就是 你有一個想法 你去做那樣的佈局 然後承擔結果 賺錢賠錢就是會直接反映了 你的看法是對是錯 當然有時候可能不要看得太短 那目前AI server呢 以老黃的H100來講是N4 那DOJO是N7 TPU是16跟5 那Androperna呢是丟在 好像是5的位置 他們應該都會有跨節點 但是我說主軸跟可能未來主推的地方 會在那些地方 所以你會發現 他沒有全部都擠在同個地方 ista Spy叫做卡薩達 其實就是 AK17으면서 他在 ALEX BOSS 完全沒有區別 就是成功滑翔 就是非常融合 另外我們在\n",
      "可能每個人用到的是不一樣的 所以我覺得輝達的競爭對手可能會是AMD 然後跟Intel 那再來可能各家的ASIC可能會落在5跟7優先 然後之後他們可能也會往3奈米去前進 好3、4奈米這樣 所以 短期內不會看到大家打架 但是中長期非常有機會 這就是為什麼公司派直接跟你講說 HPC是未來主要的一個動能 所以手機晶片大家會互相打架 然後搶產能 那現在在HPC呢 當然我們可能有看到類似的狀況 所以 嗯 應該是這樣子 下面這個 潮濕濃餅乾 他說祝夢工一家人的願望都實現 主要也好 職能治療師法修法 需要大家的關注 舉例 郭棟兒 在早期介入後可以快樂的長大 不被視為是問題的兒童 中風的主婦在改造除去後 也可以煮飯給家人 不被當成是累贅 醫學為生命增加歲月 復健讓歲月增添生命 關於職能治療在做什麼 為什麼要修法 請追蹤粉專 職能治療師修法聯盟 祝各位好人一生平安 然後祝你們順利 下面這個 0380J 他說老黃帶我飛高高 愛戴安安 先祝全家平安 諾亞好可愛 今年NVIDIA的漲幅超乎想像 230到260的區間賣掉部分 持股的我現在感覺很蠢 祝福諸位持股繼續噴射 送啦 括號留言時已經噴20 也非常恭喜你 不會啦 賣掉一點OK啦 就是 你知道你不可能每個東西都會吃到嘛 有時候你賣掉一點 後面是崩你就很開心嘛 所以那都是很事後論的啦 我覺得你只要知道自己在幹嘛 那不會有持續的去曝險 去稍微的加減嘛 都沒有什麼太大問題 下面這個FND Liu 他說我把女友甩了 嗨大家好 先五星奉上 小弟我最近剛把女友給甩了 原因是她是個綠茶 我發現之後就立刻像股票投資一樣 停損止血 避免後續更多的補貼\n",
      "不必要的麻煩 雖然有點不捨 但還是祝福她 想問她有沒有碰過綠茶的經驗 或是有沒有其他的建議 然後另外想請她用湯姥鴨的方式 幫我跟新竹大美女吳半仙說 不要啦 不要一直出這麼難的題目 她說祝你工作快快找到 那等你飛高高 記得帶上我 謝謝大家 祝福大家身體健康 好人一生平安 不知道 我覺得你的做法是對的 我覺得不管它是什麼綠茶紅茶 還是玄米茶 只要是怪怪的 就直接砍掉就對了 就是不要想太多 當你今天感覺有問題的時候 一般就是直接去針對那個感覺做處理 你了不起就是再觀察一下下 但是只要是哪裡怪怪就直接砍掉 所以他並沒有說什麼 有比較高深的建議還怎麼樣 我覺得感情這種東西 就是一個過一個蓋 你只要佩服上你就把它砍掉 然後最後面你會發現說 他找了另外一個 就搞不好跟他一樣很綠茶的 兩個就湊在一起 最後面都是這樣物以類聚 所以 對 你的做法沒有什麼太大問題 下面這個2330上1000 他說我是跟廢物攬交 主委你好 小弟是上古潛水伏地魔 從2020年聽到現在 台積電也從600浮到三字頭都忍住了 那上集剛好有人問到債券 如果小弟擺明就是要幹美債價差來的 沒有在信殖利率的話 那中信美債20年ETF plus 國泰20年美債正二 1比1這樣尻 有自信軟趴捏著浮到降息 是不是送分題 還是有什麼更好的做法嗎 謝謝賴孟公大大 括號PS小弟當然知道你叫謝孟公 但您值得信賴 好 OK 那 你都自己講說你是伏地魔 而且你可以吃很大的回吐 你要這樣做是可以 只是正二的債券 就是它會有那個震盪的耗損 那長期可能也是蠻可怕的 那你不知道它是不是一定會很快的就降息\n",
      "我覺得現在去壓債券的是 某方面來說是在賭這個 後面可能會有經濟的風暴 因為如果說經濟風暴出來的話 這些去壓債券的應該都會賺爛 去賭價差的應該都會賺爛 但假設經濟風暴沒有出來 然後他就維持這樣的一個利率 維持個一兩年以上 也不要說什麼 你因為這樣子會賠錢 你不一定會大賠錢 可是你的錢就死在裡面一兩年 就類似說之前人家講什麼 台積電的Debt money一樣 就可能就停在裡面 所以 我不會說什麼這是一個 送分題啦 送分題應該是 很明確可以看到 舉例來說 一個東西的現貨目前是300塊 然後它的股期只有280 然後這可能就送分題 我直接進去收斂 這個是百分之百會賺到的 可是 你說這種有 國際經濟情勢在裡面的東西 你要把它當送分題 可能有一點 這個 比較囂張一點啦 所以我會覺得 你不知道後面會怎麼樣 當然我們都會認為說 利率不可能可以停在 這麼高的地方 然後經濟不會爆掉 這是市場目前主流的一個說法 所以他一定要降 那只是他又不會瘋狂降 降到像可能2020年那樣子 貼近地板 這就不知道了 但如果真的這樣的東西發生的話 你去賭債券價差 你就是大賺嘛 那在我的看來是 對 我知道債券這邊可能有東西可以賺 但我選擇去 押股票 然後現在回頭看 其實這個選擇非常正確 所以就是你去選擇一個 你覺得舒服的東西去做就對啦 盡量還是要挑自己熟悉的東西打 那 你有辦法可以捏住的話 我覺得什麼策略都可以去試試看 下面有這個 Anthony Pan 他說五星吹爆主委安安 第一次留言潛水 兩年第一次留言 希望可以被唸到 感謝主委的觀念矯正 讓我從前年時怎麼樣買怎麼樣虧 變成稍微會資金分配 今年隨著Tesla的升級\n",
      "NVIDIA、Palantir跟TSM起飛 那另外我想請問 iDAR我大三目前要準備要師國考 5月25號會大財報開完後 我就把股票全部清倉高歌離席 然後ALL IN IEF跟EWJ 請問iDAR我這樣子做有不妥 或是太衝動嗎 如果有請不吝觀念矯正 那如果有必要也可以直接灌我一拳 最後反請iDAR祝我要師國考一次就過 謝謝 祝這個Anthony Pan國考順利 那他這個做法稍微翻譯一下 就是他本來是選股 然後他選股撈到了之後 他就直接一鍵清倉換成是IEF 就是7到10年的美國中期國債 然後配EWJ就是台灣的ETF在美國交易 那變成一個股債配的配置 那這樣子有沒有什麼問題 或是太衝動 我覺得完全沒有問題 就是假設你要專心國考的話 你換成這樣的配置是正確的 你如果是放線股的話 你不免可能就是 還是要一直去看說 這個各個股票的表現是怎麼樣 那直接把它切成是ETF的話 可能就會比較輕鬆一點 所以沒有什麼太大問題 下面為這個 健美子他說 五個大星星 iDAR你好 本身有經營YT頻道 那算是下班做興趣的 YT一年總分潤大概只有800美金 每次Google的外匯來都要被銀行內扣 解匯費400台幣 一想請教有沒有辦法可以省下解匯費 或是哪家銀行的收費比較低 我的YT收益不高 每次入帳還要這樣被收錢 真的是很不開心 YT收益目前累積大概是3000美 懶人投資的話 iDAR會建議全換台幣買6208 還是直接丟美金定存呢 那因為現在連續升息 定存利率好像不錯 官號有查過目前定存6個月 大概是年息4% 還請iDAR開市救救我這個\n",
      "奈米級有土伯 好 那首先第一個問題的解方 不知道 可能就是你要是銀行的VIP 或許可以談看看吧 不然就是不要 可能每期錢過來都跑去領 因為這樣子 你那個手續費是一定不划算的 就累積久一點再去領 但當然如果你非常需要這筆錢的話 那沒辦法 你就是要給人家抽這種高昂的手續費 那再來 去買6208還是要去美金訂存 這個要問你自己啦 施主 但如果你是老聽眾 一定就知道說 我不可能叫大家去訂存 我最討厭就是訂存 所以我一定是跑去買股票 這是我啦 但你會怎麼樣做我哪知道 你覺得舒服就怎麼樣做 兩個都是不錯的選項 訂存是穩賺不賠啊 股票是有可能會賠錢啦 只是股票的上檔報酬 整個爆發性都好很多啊 就看你有沒有那個軟蛋去承擔而已 下面一位這個 重訓聽股癌槓鈴掉下來 他說我愛蘇媽 最好相隔300集再次留言 希望可以被選到 目前20多歲在某台資金融業 工作跟感情都穩定 年薪大概是1M 但一直有個出國工作的夢想 雖然認同癌大說 年輕的時候想做什麼就趕快去做 但面對離鄉背景 還是會不免感到焦慮 想請問主委該怎麼跨過心理上 追求自我實現跟待在舒適圈的糾結呢 祝主委一家健康開心 謝謝 好 那舒適圈為什麼叫舒適圈 就是因為很舒適嘛 所以你要跳脫你一定會各種不適嘛 那人性就是我們一定會選擇 往舒服的方向去走 所以大多數人其實只要建立舒適圈 應該就很難出去了 所以不要覺得說什麼 是不是自己廢啊 沒有動力啊什麼 因為他叫舒適圈是有道理的 誰會他媽的有事沒事想要去洗碧水澡 誰會他媽的有事沒事 你知道吃生蠔會拉肚子 然後還跑去狂吃 我 因為我媽的 真的是活到31歲然後才知道 原來生蠔是可以吃的\n",
      "生蠔我吃了會拉肚子 因為我本身腸胃就不是很好 然後我也很愛吃生蠔 喜歡吃大魚大肉 有的沒有的東西 那因為腸胃沒有很好的關係 所以就很習慣 反正有時候吃完就是要拉就這樣嘛 然後只是因為前幾天在西班牙的時候 就可能就是默默的發現說 欸靠北原來關鍵可能是生蠔欸 因為我很常吃生蠔 然後可能我過去有時候什麼肚子會痛啊 屎在滾啊什麼 其實就是生蠔 那當我今天知道這樣的事情之後呢 我並沒有去逃避它 我反而在接下來幾天我都跑去吃生蠔 然後我現在就直接從83公斤瘦到剩下79 然後我很開心 就即便這件事情其實是不太舒服的 可是我還是去做 為什麼?因為我知道它會瘦 雖然這樣講起來可能很白目很白癡 但我不知道 我覺得這個你可以參考看看啦 就是跳脫舒適圈 你假設要去說服是值得的話 就是去探索這個過程是值得的話 它應該是要有一個回報 所以就像說你今天可能跑去國外 可以直接拿到高一倍的薪水 你剛出去一定是各種不舒服啦 而且你最後可能發現說幹 稅後你開銷什麼都算一算 你不一定比較賺錢 可是因為它有一個誘因嘛 然後讓你去做 你做了之後可能就莫名其妙在那邊 就形成一個新的舒適圈 所以就成功的跑出去了 可是你知道這樣子 就類似說這個 有事沒事你當然不會想要吃生蠔 然後跑去拉 但是因為吃生蠔真的太好吃了 然後或是可能因為吃了之後它會瘦 所以你就因為這樣子會去做一個 明明就不是這麼舒服的事情 雖然這樣講有點像歪理 但是這是我馬上第一個聯想到的事情跟你分享 我覺得要有一個動力啦 不然其實大多數的人 很難主動跳出舒適圈 特別是知道跳出舒適圈 未必會有更好的結果 他可能就不會想這樣做 他可能要至少有一個很明確的投射知道說 我出去我有一個上檔的期待空間 我才會想要這樣做 所以它並不是一個簡單的事情啦 他還會有一個很明確的投射\n",
      "滿考驗每個人的人性的 好 那今天就先這樣 掰掰\n"
     ]
    }
   ],
   "source": [
    "url = 'https://www.youtube.com/watch?v=rC2hBUhOqag'\n",
    "output_name = 'gooaye-ep352'\n",
    "ytt = YouTubeAudioTranscript(url, output_name)\n",
    "ytt.get_transcript()\n"
   ]
  },
  {
   "cell_type": "code",
   "execution_count": 4,
   "id": "55192fbd",
   "metadata": {},
   "outputs": [
    {
     "name": "stderr",
     "output_type": "stream",
     "text": [
      "INFO:root:Downloading giantcutie666-crypto-airdrops/giantcutie666-crypto-airdrops from https://www.youtube.com/watch?v=_BxAQBjsGZk\n",
      "INFO:root:Exporting giantcutie666-crypto-airdrops/giantcutie666-crypto-airdrops.wav from giantcutie666-crypto-airdrops/giantcutie666-crypto-airdrops\n",
      "INFO:root:Opening giantcutie666-crypto-airdrops/giantcutie666-crypto-airdrops.wav\n",
      "INFO:root:Divided the file into 9 chunks of 100 seconds each.\n",
      "INFO:root:Exporting new chunk file giantcutie666-crypto-airdrops/chunks/giantcutie666-crypto-airdrops_chunk0.wav\n",
      "INFO:root:Transcribed\n",
      "INFO:root:Exporting new chunk file giantcutie666-crypto-airdrops/chunks/giantcutie666-crypto-airdrops_chunk1.wav\n"
     ]
    },
    {
     "name": "stdout",
     "output_type": "stream",
     "text": [
      "今天咱们来聊一聊普通人如何撸空头发家致富 撸空头必备的工具到底有哪些 大家都知道最近我们行业一直以来深受关注 深受大家喜爱的原因是因为 在我们行业想要发家致富有一种方式 可以不用钱真正做到勤劳致富 这个事情在其他行业可谓是不存在的 其他行业勤劳只能赚点血汗钱 在我们行业真的是勤劳能致富 这个操作的名字就叫做撸空头 回顾大漂亮过去两年的经历 我自己本人其实也是撸过不少空头的 比如说我当年撸这个dydx 当时它给每个地址的空头金额达到了2万美金 因为dydx人家的币价也非常给力 除了dydx还有ENS ENS当时单地址空头6000美金 当然了还有PSP也是榜上有名 单地址空头5000美金 接着还有最近OP OP我喊着大家一起我们去交互过了 单地址的空头额达到3万美金 这个非常夸张是吧 包括还有最近表现不凡的APT 单地址的空头金额达到2000美金 这个我们社区也去参与过了 我们一起撸的太多太多了 大漂亮都数不过来了对吧 好那今天的这期视频 我就出给这些新来的小伙伴 还有这些踏空的小伙伴 你们先别慌 我们区块链行业不断创新不断发展 未来依旧有很多很多项目要去发空头 那我们还是有很多机会的 4月1号上了\n"
     ]
    },
    {
     "name": "stderr",
     "output_type": "stream",
     "text": [
      "INFO:root:Transcribed\n",
      "INFO:root:Exporting new chunk file giantcutie666-crypto-airdrops/chunks/giantcutie666-crypto-airdrops_chunk2.wav\n"
     ]
    },
    {
     "name": "stdout",
     "output_type": "stream",
     "text": [
      "今天的大漂亮就不再受制于鱼了 而要受制于鱼 我今天就来跟你说说 这些撸空头的工具有哪些 今天的主要内容我给大家总结了8个 8个主要内容分为 工具部分 常用钱包 链上行为 新闻网站 空头平台 跨链工具 和数据查询小工具 看完这个视频 相信你对撸空头这个事情思路会非常非常的清晰 好 首先我们来说说这个基本工具 在这个撸空头之前 我们想要准备一些基本工具 包括哪些呢 一个叫谷歌账号 在互联网的世界里面 它可以一键注册多个其他账号 非常的好用 第二个必备工具就叫谷歌邮箱 因为有的时候真的需要填写一些个人的邮箱账户 第三个就是推特 这个推特你需要经常的去关注项目方的官推 还有两个非常重要的社交软件 叫Telegram和Discord 这两个经常被用来验证你的个人账户 那以上这些就是我们日常撸空头的基本的常用工具了 除了这些我们再来说一个稍微难一点的 这个叫常用钱包 在互联网的世界里 我们都知道用谷歌账号 QQ邮箱这些去进行注册和登录 但是在区块链和Web3的世界里 我们只需要一个钱包就足够了 这个钱包地址就是我们的链上身份 就像我们的手机号一样的存在 那么我们常用的链上钱包是谁呢? 我比较常用的就是Mitamask 中文名叫小狐狸 它的好处在于它非常的安全 而且同一个钱包地址包含所有兼容易开放的账号\n"
     ]
    },
    {
     "name": "stderr",
     "output_type": "stream",
     "text": [
      "INFO:root:Transcribed\n",
      "INFO:root:Exporting new chunk file giantcutie666-crypto-airdrops/chunks/giantcutie666-crypto-airdrops_chunk3.wav\n"
     ]
    },
    {
     "name": "stdout",
     "output_type": "stream",
     "text": [
      "防EVM链上的所有网络 我们在操作的过程中只需要进行简单的切换就行 非常的方便 当然了还有其他区块链钱包在这里 我就不再多说了 大家举一反三即可 不过说到这个钱包 我还是要提醒你们 一定要保管好自己钱包的私钥和主机词 不要随便的复制粘贴 更不要保存在你的谷歌账号里面 这个丢了可就真的找不回来了 不像你的支付宝密码丢了之后可以点找回 我们这个丢了是没人帮你找回 因为我们是去重新化的对不对 同时还有一个风险 就是不要轻易相信任何不熟悉的小项目 因为我们行业钓鱼网站太多了 更不要对他们进行签名 也就是一个approve授权 不然你的钱包真的非常容易被盗 如果被盗了那可就得不偿失了 是不是 毕竟我们行业还有这种专业的黑客团伙 好那第三个我要给你普及的 就叫链上行为 有了钱包之后我们需要有丰富的链上行为 有了这些链上行为就可以让我们这个钱包地址 看起来是一个真实的玩家 而不是一个撸羊毛专业户 那我们怎么去做一些链上行为呢 首先我们可以去注册一些以太坊的域名 比如说这个ENS域名 具体的教程大片之前做过视频去出过 比如说你看我弄一个大漂亮点ENS 就是我的链上一个域名 那这个域名其实是跟我们互联网的域名是一样的 它是我们身份的一个象征 而其次我们还可以去参加一些其他的也是比较安全的项目 比如说去参与链上的治理 可以去一些主流的项目官网参与他们链上的投票\n"
     ]
    },
    {
     "name": "stderr",
     "output_type": "stream",
     "text": [
      "INFO:root:Transcribed\n",
      "INFO:root:Exporting new chunk file giantcutie666-crypto-airdrops/chunks/giantcutie666-crypto-airdrops_chunk4.wav\n"
     ]
    },
    {
     "name": "stdout",
     "output_type": "stream",
     "text": [
      "比如说这个Uniswap,AVE,Curb等等等等这些 小项目就不要操作了 这个风险也是有的 当然了还有一种方法 你可以快速参与治理 这个方法就是去这个Snapshot 这是一个治理的集成网站 非常好用 或者我们去Gitcoin捐款也行 大片子之前其实也出过Gitcoin的捐款视频 大家可以去看看 我自己也是参与过很多期的捐赠 每一次我可能会捐个10到100美金 小捐款 去刷一下我这样的钱包 做完这一套操作之后 你的钱包就看起来是个有血有肉的好钱包了 就不是一个鲁毛专业户了 好那我们再来说一个进阶操作 就是我们甚至可以去创建一个Safe多签钱包 那这个多签钱包可谓是进阶版了 那参与了多签钱包 就可以证明你是区块链的深度玩家了 好那准备好了钱包 那咱接下来就要去收集资讯了 我接下来要说的就是新闻网站 有了这个新闻网站我们就能及时的去找到这些新出来的项目 趁他们没有发币 处于应用的早期 我们还可以快速接入快速的交互抢占先机 所以说我跟大家分享几个 我通常使用的区块链新闻网络 比如说这个绿洞 这个华人友好型 CoinDesk 可能有点翻译比较麻烦 或者这个Pineus也有一些新闻 也是可以去看的 还有这个Coin.com 这个也是我通常使用的 也有一些新闻也是可以去看的 好那除了多关注新闻平台 我们其实还要去盯另外一个叫空头平台 因为很多早期的项目会跟一些主流的空头平台合作 发布新手任务以及相对应的新手项目\n"
     ]
    },
    {
     "name": "stderr",
     "output_type": "stream",
     "text": [
      "INFO:root:Transcribed\n",
      "INFO:root:Exporting new chunk file giantcutie666-crypto-airdrops/chunks/giantcutie666-crypto-airdrops_chunk5.wav\n"
     ]
    },
    {
     "name": "stdout",
     "output_type": "stream",
     "text": [
      "那我通常常用的Web3的任務平台有這個銀河女孩 之前我們講過叫這個Galaxy 是不是 完成相應的任務就可以領取相應的NFT獎勵 那這個NFT就是我做任務的一個證明 那他們發放獎勵也會根據這個證明去發放獎勵 有時候會空投一些代幣 甚至有時候會直接空投USDT 你的這個NFT在哪個地址 它的空投就會到達哪個地址 還有其他平台 比如說我常用的兔子動 Layer3 Quad3 POP徽章等等等等太多了 時間有限的大片就不再做過多的解釋了 好那除了這些 我還要跟大家說一個叫跨鏈工具 在我們確定目標和任務之後 有時候需要將資產從A網絡轉移到B網絡 這個時候我們就要用到這個跨鏈工具 目前常用的跨鏈橋比如說這個Opiter 它支持以太坊EVM兼容的所有網絡 在這個所有網絡之間跨鏈都是可以的 另外還有一些比較少人使用的 但是潛力還不錯的跨鏈橋 我覺得大家都可以交互一下 比如說這個LiquidSwap 它支持以太坊EVM系列的所有網絡 與其他非EVM供電 這個就是它的特色 這個跨鏈轉賬可能會更加自由一點 那這裡可能有新手小夥伴不太理解 那大片就舉個例子 比如說你將以太坊網絡上面的ETH代幣 跨鏈到Aptos上面 這個時候就需要用到這樣的一個跨鏈橋 因為Aptos它不是EVM兼容的網絡 當然了你跨到幣安智能鏈上就可以 因為啥?因為幣安智能鏈就是EVM兼容的網絡 那大片在此還要提醒一下大家 這個LiquidSwap是基於Layer0 DNS的一個軟體 所以它是一個非常非常非常非常非常非常非常 非常非常非常非常非常非常非常非常 非常非常非常非常非常非常非常非常 非常非常非常非常非常非常非常 非常非常非常非常非常非常非常 非常非常非常非常非常非常\n"
     ]
    },
    {
     "name": "stderr",
     "output_type": "stream",
     "text": [
      "INFO:root:Transcribed\n",
      "INFO:root:Exporting new chunk file giantcutie666-crypto-airdrops/chunks/giantcutie666-crypto-airdrops_chunk6.wav\n"
     ]
    },
    {
     "name": "stdout",
     "output_type": "stream",
     "text": [
      "从协议开发的 那这个Layer Zero人家还没发币 那它也是一个不错的项目 它早期获得过币安的投资 后面的红杉资本和A16Z也都投了它 它现在的估值有10亿美金 所以说你在交付跨链桥的时候 顺便能把Layer Zero给交付了 总而言之 Low空投我们的中心思路 就是尽可能的多多的交付 一笔操作交付N多个项目 只要我们网撒的足够开 我们的鱼可能就抓的比较多 这又扯远了 言归正传 这个跨链桥是我们必须要掌握的 这个Low空投技能 好 接下来我要说的这个基本操作 叫数据查询 在我们Low空投的时候 不可避免的要去看一下这些链上的数据 那下面几个专业的网站 就是我平时用的比较多的 比如说这个UltraSun 它是干嘛的 它是以太坊实时Gas费用的查询 毕竟你要做交付 这个Gas费就是我们的成本 所以我们要省钱 就是要去查一查Gas费 找个Gas费低的时间点 我们再进行交付 就可以省下一大笔钱 毕竟能省一点是一点 还有一个我要说的常用工具 就叫Define Lama 它主要查啥呢 它查的是链上锁仓量 它可以查询任何网络上 任何项目的具体的锁仓资金量 就是这个TBL 我们查了这个主要是用来干嘛呢 主要是用来判断这个项目的成长速度 以及它的体量 有了这个数据 我们就知道这个项目值不值得交付 它是不是早期 它到底行不行 接下来我要说的这个网站 叫Debank 它是个人钱包资产的查询 你用这个网站 你可以看到你钱包里面的钱 具体分布在哪条链上 有的时候我们因为要操作很多链\n"
     ]
    },
    {
     "name": "stderr",
     "output_type": "stream",
     "text": [
      "INFO:root:Transcribed\n",
      "INFO:root:Exporting new chunk file giantcutie666-crypto-airdrops/chunks/giantcutie666-crypto-airdrops_chunk7.wav\n"
     ]
    },
    {
     "name": "stdout",
     "output_type": "stream",
     "text": [
      "有些錢忘在那條鏈上不知道了 不記得了 你用這個一查就知道了 它甚至可以幫你查到這些錢 你當時存在了哪個項目裡面 被你忘在哪了 這個清晰且透明 當我們需要賣掉這些資產的時候 我們就可以很快的找到它 避免我們資產的損失 好 接下來我要說的這兩個網站叫NFTgo和NFTscan 這兩個都是NFT的數據查詢網站 因為現在有很多空頭都是以NFT形式發放的 所以說我們需要去查看一下我們錢包裡的NFT的情況 而且有些NFT類的項目 比如說NFT的交易平台等等一系列項目 它的撸空頭的方式是需要你去交易這個NFT 有了這兩個網站可以很大程度上幫助我們去撸這種NFT類型的空頭 好了 除了這些 大片段再給你幾個小工具 因為在撸空頭的時候 有時候我們要借助一些小工具 會讓我們效率更高更加的方便 比如說第一個就叫chainlist 它可以給錢包快速的添加區塊鏈網絡 因為你在註冊新錢包的時候 這個錢包裡面只有以太坊主網 這就需要我們去借助chainlist去添加其他的常用網絡 第二個小工具就叫dex tools 它是鏈上的K線圖表 它和tradingview一樣 是可以看代幣的實時的K線的走勢的 但是tradingview上面收入的都是上了交易所的 咱們這個網站是只要上鏈它都能查 把這個網站用好了 就有利於我們去撸到一些 剛剛上鏈還沒有上交易所的 早期的這種代幣的空頭 方便我們去看清這個代幣的走勢 看清這個代幣的價值\n"
     ]
    },
    {
     "name": "stderr",
     "output_type": "stream",
     "text": [
      "INFO:root:Transcribed\n",
      "INFO:root:Exporting new chunk file giantcutie666-crypto-airdrops/chunks/giantcutie666-crypto-airdrops_chunk8.wav\n"
     ]
    },
    {
     "name": "stdout",
     "output_type": "stream",
     "text": [
      "該買買,該賣就得賣,是不是 第三個小工具的名字叫Dust Sweeper 它是清理小額山寨幣的這樣一個小工具 我們在錄一些小項目的時候 大多數是5美金、10美金這樣的小額代幣資產 錄完之後我們會發現 我們錢包裡怎麼會有一堆這麼多亂七八糟的幣呢 所以在這個時候我們就可以借助這樣一個小工具 把這些小額的山寨幣一次性快速的清掃乾淨 湊一湊可能也是個100優呢,是吧 拿回去吃一頓好的 接下來我要說的這個名字叫Rebook 它是用來取消代幣授權的 有的時候我們去錄這些小項目的時候 我們要去Approve它 就是什麼呢,我們就要授權它訪問我們的錢包 當我們錄完了這些小項目 萬一它涼了是不是,它有了風險了 它有漏洞有病毒的時候 它就會盜取我們錢包裡的資產 那這個時候怎麼辦呢 這個時候非常重要的事情就是 我們要第一時間取消這些項目的授權 就是不讓它去訪問我們的錢包 那這個工具在這個時候就要起大作用了 一定要買下來,這個非常的重要 那以上就是今天視頻的全部內容了 內容有點多 我建議大家收藏起來 以後用到的時候再回過頭看看 到底是哪些小工具能幫上什麼忙 好,最後呢 大片的還是要說一下我對錄錄錄錄的理解 錄錄錄錄這件事情是一定要勤奮的 你錄了不一定有,不錄一定沒有 勤奮的同時呢 你也要借助專業的工具跟對人 找對群體找對社區才能讓你事半功倍 畢竟權重的力量才是大的嘛 那大片的也希望大家...\n"
     ]
    },
    {
     "name": "stderr",
     "output_type": "stream",
     "text": [
      "INFO:root:Transcribed\n",
      "INFO:root:Saved transcript to /home/rightson/workspace/youtube-trascriptions/giantcutie666-crypto-airdrops.txt\n"
     ]
    },
    {
     "name": "stdout",
     "output_type": "stream",
     "text": [
      "今年至少可以从一辆本田思域换到一辆帕拉美拉 是不是 好 那我们下期视频再见 拜拜\n"
     ]
    }
   ],
   "source": [
    "url = 'https://www.youtube.com/watch?v=_BxAQBjsGZk'\n",
    "output_name = 'giantcutie666-crypto-airdrops'\n",
    "ytt = YouTubeAudioTranscript(url, output_name)\n",
    "ytt.get_transcript()"
   ]
  },
  {
   "cell_type": "code",
   "execution_count": 5,
   "id": "e0a5bc54",
   "metadata": {},
   "outputs": [
    {
     "name": "stderr",
     "output_type": "stream",
     "text": [
      "INFO:root:Downloading head-bear-tsla-risk/head-bear-tsla-risk from https://www.youtube.com/watch?v=kXVlrSjSPUE\n",
      "INFO:root:Exporting head-bear-tsla-risk/head-bear-tsla-risk.wav from head-bear-tsla-risk/head-bear-tsla-risk\n",
      "INFO:root:Opening head-bear-tsla-risk/head-bear-tsla-risk.wav\n",
      "INFO:root:Divided the file into 7 chunks of 100 seconds each.\n",
      "INFO:root:Exporting new chunk file head-bear-tsla-risk/chunks/head-bear-tsla-risk_chunk0.wav\n",
      "INFO:root:Transcribed\n",
      "INFO:root:Exporting new chunk file head-bear-tsla-risk/chunks/head-bear-tsla-risk_chunk1.wav\n"
     ]
    },
    {
     "name": "stdout",
     "output_type": "stream",
     "text": [
      "哈囉大家好我是Terry 如果你有看過我的影片或是關注我的IG的話 你應該知道我有超過一半以上的股票 都是投資在特斯拉這家公司上面 那過去幾個月呢我都一直持續在加倉 尤其是年初的時候股票跌到將近快一百塊的時候 那很多人以為我是馬斯克粉絲 或是那種無腦的狂熱信徒 其實不是 我投資一家公司的背後都有我自己為什麼投資的原因 我在投資任何公司或是股票之前呢 我都會盡我最大的能力去研究 然後把這些投資背後的原因給寫出來 為什麼我要投資這家公司 要是哪一天這家公司特斯拉也好或是其他公司也好 它的基本面改變了 已經沒有符合我當初投資這家公司的原因 或是偏離了我當時投資的初衷 我會毫不猶豫的把我所有的股票都給賣掉 那我相信很多看我頻道的觀眾也是剛開始學習怎麼投資 不管是美股、台股、港股或是加密貨幣 我建議是你在投資任何一家公司之前呢 至少給自己三個理由 把它寫下來為什麼你投資這家公司 然後這三個理由要有非常具體的證據 還有數據去支撐這些理由 不要只是比如說我覺得 Elon Musk 很屌 或是我看了哪個 YouTuber 他說他有投資 所以我就跟著投資 或是我朋友跟我說這家公司一定要買 我就跟著去買 如果你沒有充分的理由去證明 你自己為什麼當初要投資這家公司的話 你就會變成韭菜 什麼是韭菜呢? 韭菜就是當股票漲的時候 你跟風繼續買 然後當股票跌的時候你內心 克制不住自己的害怕 低價去把它拋售掉 那變成韭菜最主要的原因就是 你沒有你自己投資的理論 因為股票短期的波動很多時候 跟這家公司基本面沒有任何一點的關係 那今天這集影片呢 我要來聊一些不太一樣的內容 任何投資都是有風險的 那我覺得身為特斯拉的投資人呢 應該要非常了解這家公司短期跟長期的風險\n"
     ]
    },
    {
     "name": "stderr",
     "output_type": "stream",
     "text": [
      "INFO:root:Transcribed\n",
      "INFO:root:Exporting new chunk file head-bear-tsla-risk/chunks/head-bear-tsla-risk_chunk2.wav\n"
     ]
    },
    {
     "name": "stdout",
     "output_type": "stream",
     "text": [
      "那今天就來跟大家分享三個是我認為 目前投資特斯拉這家公司最大的風險 也是我最不喜歡投資這家公司的三個最主要原因 我覺得對普遍的投資人來說 最可怕的不是公司面臨的這些風險 而是你不知道這些風險的存在 那我們先暫停一下 給我一分鐘的時間介紹一下 贊助今天這集影片的小小異國手機遊戲 The Ant 遊戲是以螞蟻的第一視角去體驗 建造巢穴、擴張領土和繁殖異群的過程 我覺得這款遊戲的想法很創新 至少以傳統SLG遊戲的概念出發 用螞蟻的視角是很少見的 我以前也很喜歡玩類似這樣可以蓋自己的帝國 然後來防守跟搶奪資源的遊戲 遊戲中螞蟻有很多種類 像是弓蟻、士兵蟻還有蟻后 作用也都不一樣 比如說特化蟻是攜帶兵蟻戰鬥的隊長 強力的特化蟻可以大大提升總體的戰力 那在遊戲策略上 你需要去想怎麼樣優化你的蟻巢設計 還有資源的分配 讓你的螞蟻王國產能還有整體的戰力最大化 然後能成功防守還有攻擊敵人 在這過程中還可以學到很多關於螞蟻的真實知識 生存習性還有和其他蟲族敵人的關係 從遊戲中螞蟻地下環境的真實度 看得出來他們團隊花了很多心思 設計一個非常逼真的螞蟻世界 這款手遊在全世界的下載量已經超過6000萬了 那我會把遊戲的下載連結放在影片底下的資訊欄 如果你喜歡類似這樣的遊戲的話可以去試試看 首先第一個我覺得是最大的風險 也是我最不喜歡投資特斯拉這家公司最主要的原因 就是馬斯克本人 我覺得一家成熟的企業 穩定的企業 他的企業精神會一直傳承 而不會因為公司的某一個人不在了 而造成公司之後走下坡 或是失去一個精神領袖 其實這個道理很簡單 任何一個人在一家公司都可以做到的\n"
     ]
    },
    {
     "name": "stderr",
     "output_type": "stream",
     "text": [
      "INFO:root:Transcribed\n",
      "INFO:root:Exporting new chunk file head-bear-tsla-risk/chunks/head-bear-tsla-risk_chunk3.wav\n"
     ]
    },
    {
     "name": "stdout",
     "output_type": "stream",
     "text": [
      "應該隨時都可以被取代 包含公司的CEO 這才是一家好的公司 就像你知道麥當勞 你知道可口可樂這些公司的CEO是誰嗎? Who cares? 沒有人知道 但是你看公司的股票 這些公司之所以可以永續的存在 就是因為他們內部的董事會 還有公司的文化 已經成熟到了一個 任何員工都可以隨時隨地被取代 要是今天CEO不小心掛了 馬上可以找到一個同樣資格的人 來這個位置上面做事情 完全不會影響到公司持續發展 但是特斯拉不太一樣 特斯拉的精神領袖 目前就是馬斯克 沒有任何一個人 可以取代他的地位跟重要性 那這種我都知道的事情 他自己也應該知道 我相信馬斯克很早就已經知道 他自己的接班人應該是誰 而且董事會也不可能 沒有任何接班人選 但是現實就是很多的投資人還有資本 他們投資特斯拉的原因 就是因為Elon Musk 如果他今天突然宣布不當CEO 或是出了什麼事情的話 一定會造成股票短期的 劇烈波動或是拋售 前段時間我們就已經 間接的驗證這個事實 很多人以為Elon Musk 買了Twitter之後 就沒有時間在關心特斯拉 然後要賣特斯拉的股票 來完成Twitter的收購 造成特斯拉股票短期 一度跌到100塊錢 儘管馬斯克本人 還有特斯拉這家公司 已經很明顯的一直在向外部證明 沒有馬斯克 特斯拉也可以持續按照計畫執行 你想想看他同時是 Twitter、SpaceX、特斯拉 這幾家公司的CEO 這世界上有幾個人 可以同時當這麼多家公司的CEO 還可以把所有公司的目標跟執行 都做得很好 他已經證明了沒有他 特斯拉也可以按照計畫執行 我不相信他現在花在特斯拉的時間 有以前那麼多 但是短期市場一定會有很大的波動 但是其實我比較擔心的是長期 特斯拉不像麥當勞、可口可樂 或是蘋果這些公司 就算CEO 現在的CEO退休了\n"
     ]
    },
    {
     "name": "stderr",
     "output_type": "stream",
     "text": [
      "INFO:root:Transcribed\n",
      "INFO:root:Exporting new chunk file head-bear-tsla-risk/chunks/head-bear-tsla-risk_chunk4.wav\n"
     ]
    },
    {
     "name": "stdout",
     "output_type": "stream",
     "text": [
      "基本面也不會有任何的改變 因為你投資這些公司的話叫做 Value Investing 價值投資 你投資的是他們的穩定現金流 穩定的收益 穩定的產品護城河 穩定的業界口碑 而相反的特斯拉是 Growth Investing 你投資的是一家高成長高風險的科技公司 你投資的是他在未來可能可以帶來的巨大回報 而不是現在看到的穩定現金流 所以說 Growth Company 成敗很重要的一點 我敢說應該是最重要的 不是他的產品或是科技有多強 而是他的領導團隊 就像一家新創公司一樣 創始的領導團隊比什麼都還要重要 所以說我覺得現階段 就算特斯拉領導團隊已經有能力 完全執行特斯拉未來十年的計畫 還是需要有馬斯克這個精神領袖 這也是我認為目前投資特斯拉這家公司最大的缺點 就是不得不承認 馬斯克在公司裡面重要性 目前還沒有任何人可以取代 也就是說要是哪一天特斯拉沒有了馬斯克 我覺得風險跟不確定性會增加很多 不代表說公司就不會變得更好 而是目前我覺得非常難再找到一個人像他一樣 可以繼續帶領特斯拉度過種種難關 然後繼續在生產製造還有科技上面創新 第二個我認為最大的風險就是地緣政治的問題 特斯拉上海超級工廠 是目前所有超級工廠裡面產能最高 大概有40%的車子目前都是從上海那邊出來的 大家也知道中美關係一直都是那樣子 從川普上任之後就開始打貿易戰 然後中國的反間諜法 抖音在美國被禁止 這些亂七八糟的事情每天都在發生 所以假如說今天中國政府真的要做什麼 他們完全可以直接把特斯拉上海的超級工廠給關了 不需要什麼太多的理由 而且這些理由隨便找都可以找得到 相對的美國政府也是同樣有能力 直接把一家中國的公司給封殺了 所以今天咱們來看看 種族本身的衝擊 做什麼\n"
     ]
    },
    {
     "name": "stderr",
     "output_type": "stream",
     "text": [
      "INFO:root:Transcribed\n",
      "INFO:root:Exporting new chunk file head-bear-tsla-risk/chunks/head-bear-tsla-risk_chunk5.wav\n"
     ]
    },
    {
     "name": "stdout",
     "output_type": "stream",
     "text": [
      "所以這就是為什麼特斯拉要在德國造超級工廠 然後為什麼要在墨西哥投資一個最大的超級工廠 美國跟墨西哥的貿易關係一直以來都非常好 雖然墨西哥的超級工廠在今年已經開始規劃了 但是要量產最快也要兩三年的時間 而且中美關係這中間夾雜的問題 不只是特斯拉這家公司 還包含了SpaceX SpaceX雖然說是一家民營的航太公司 但是他們跟NASA的關係 還有整個公司的盈利 就是幫助其他公司發射衛星到太空 這些都很有可能牽扯到政治的問題 像是幫助烏克蘭打仗 當然這些跟特斯拉這家公司沒有直接的關係 但是CEO都是同一個人 很難讓人不去考慮地緣政治上面的風險 而且大家都知道馬斯克是出了名的管不住他的嘴 我會說我想說的 如果這個影響會影響我的錢就算了 如果你不相信中國的監管機構 是可以怎麼樣去搞一家公司的話 你去看一下阿里巴巴的股票就知道了 但是馬斯克非常的聰明 他雖然在推特上面說一堆廢話 得罪很多人 我認識很多人是真心不喜歡他 但他從來沒有講過中國一句壞話 他知道有一些線還是不能跨的 但是誰知道 社交網路像是Twitter這種 在地緣政治上也是一個很敏感的產品 推特在中國是完全被禁止的 所以說我認為目前投資特斯拉這家公司 很大的一個風險就是地緣政治 第三個我認為特斯拉最大的風險 就是短期的經濟週期影響 雖然我不認為這個對我來說算得上是一個風險 因為我是一個長期投資人 我看的是5年10年之後的特斯拉 但是對很多人來說投資的年限可能不會那麼長 我覺得在接下來一兩年會有很大經濟週期的風險 其實就是一個很簡單的道理 特斯拉的車子跟BMW還有賓士 都是屬於Luxury Class高檔車的品牌 就算你的車子坐得長\n"
     ]
    },
    {
     "name": "stderr",
     "output_type": "stream",
     "text": [
      "INFO:root:Transcribed\n",
      "INFO:root:Exporting new chunk file head-bear-tsla-risk/chunks/head-bear-tsla-risk_chunk6.wav\n"
     ]
    },
    {
     "name": "stdout",
     "output_type": "stream",
     "text": [
      "再怎麼屌 再怎麼高科技 目前的價位還是屬於大多數人負擔不起的 而且就算負擔得起 在經濟環境不好 尤其是科技業裁員潮 通貨膨脹 高利率的時代 消費者的習慣自然會變得保守 目前所有的宏觀狀態都是對特斯拉非常不利的 我覺得接下來一兩年的股票會有非常大的波動 而且特斯拉並沒有要踩剎車 降低產能 儘管是賠錢賣 他們都要把產能全部打開 然後把每一台車給賣掉 所以他們車的售價才會從今年開始一直降 雖然我個人認為這個做法沒有什麼太大的問題 畢竟特斯拉的毛利率是業界最高的 而且特斯拉這家公司成立的宗旨 就是要加速全世界可持續能源的轉換 他們只是在做他們說過他們會做的事情而已 但是這些做法短期不會被華爾街還有那些投資人看好 所以股票一定會有一堆機構去做空 而且特斯拉在今年四月底的時候 又再次上調今年一整年的CAPEX預測 CAPEX就是大型的資本投資 像是建造新的超級工廠 跟擴建原本的超級工廠 電池生產的投資 還有AI這部分的R&D投資 那如果你在科技業或是投資科技業相關的股票的話 你應該知道今年北美這些科技公司 只要一宣布裁員 他們的股票就會上漲 原因就是市場對接下來一年的預測是非常悲觀的 那如果公司開始節約裁員 代表說公司虧損或是倒閉的風險又降低了 所以說裁員縮減開銷 在今年來說是一個對股市利好的消息 那特斯拉相反的並沒有要裁員縮減開銷 反而是增加投資 擴建廠房 這些舉動長期來說是利好的 但是短期來看的話 很容易因為一些數據沒有達標 導致股票暴跌 在經濟不好的情況下 如果你大量投資 你的業務還是穩定向上走的\n"
     ]
    },
    {
     "name": "stderr",
     "output_type": "stream",
     "text": [
      "INFO:root:Transcribed\n",
      "INFO:root:Saved transcript to /home/rightson/workspace/youtube-trascriptions/head-bear-tsla-risk.txt\n"
     ]
    },
    {
     "name": "stdout",
     "output_type": "stream",
     "text": [
      "那沒有任何問題,沒有人會說你 但是如果你只要有稍微一點點沒有達標 股票很容易就會被瘋狂拋售 因為這些投資都增加短期公司虧損的風險 好啦,那以上三個是目前我認為 投資特斯拉這家公司最大的風險 這也是為什麼我在頻道上面 從來不會推薦你去買特斯拉的股票 我是真心覺得這個投資不是所有人都適合 儘管我自己看好這家公司未來的發展 但是不代表說任何人投資了這家公司之後 都可以賺得到錢 如果你喜歡類似這樣的影片的話 記得一定要幫我點個讚 我也很好奇你的看法 歡迎你在底下留言跟大家分享一下 你認為投資特斯拉這家公司目前最大的風險是什麼 那我們下次見囉\n"
     ]
    }
   ],
   "source": [
    "from youtube_audio_transcript import YouTubeAudioTranscript\n",
    "\n",
    "url = 'https://www.youtube.com/watch?v=kXVlrSjSPUE'\n",
    "output_name = 'head-bear-tsla-risk'\n",
    "ytt = YouTubeAudioTranscript(url, output_name)\n",
    "ytt.get_transcript()\n",
    "\n"
   ]
  },
  {
   "cell_type": "code",
   "execution_count": 5,
   "id": "81578e72",
   "metadata": {},
   "outputs": [
    {
     "data": {
      "text/plain": [
       "'哈囉大家好我是Terry 如果你有看過我的影片或是關注我的IG的話 你應該知道我有超過一半以上的股票 都是投資在特斯拉這家公司上面 那過去幾個月呢我都一直持續在加倉 尤其是年初的時候股票跌到將近快一百塊的時候 那很多人以為我是馬斯克粉絲 或是那種無腦的狂熱信徒 其實不是 我投資一家公司的背後都有我自己為什麼投資的原因 我在投資任何公司或是股票之前呢 我都會盡我最大的能力去研究 然後把這些投資背後的原因給寫出來 為什麼我要投資這家公司 要是哪一天這家公司特斯拉也好或是其他公司也好 它的基本面改變了 已經沒有符合我當初投資這家公司的原因 或是偏離了我當時投資的初衷 我會毫不猶豫的把我所有的股票都給賣掉 那我相信很多看我頻道的觀眾也是剛開始學習怎麼投資 不管是美股、台股、港股或是加密貨幣 我建議是你在投資任何一家公司之前呢 至少給自己三個理由 把它寫下來為什麼你投資這家公司 然後這三個理由要有非常具體的證據 還有數據去支撐這些理由 不要只是比如說我覺得 Elon Musk 很屌 或是我看了哪個 YouTuber 他說他有投資 所以我就跟著投資 或是我朋友跟我說這家公司一定要買 我就跟著去買 如果你沒有充分的理由去證明 你自己為什麼當初要投資這家公司的話 你就會變成韭菜 什麼是韭菜呢? 韭菜就是當股票漲的時候 你跟風繼續買 然後當股票跌的時候你內心 克制不住自己的害怕 低價去把它拋售掉 那變成韭菜最主要的原因就是 你沒有你自己投資的理論 因為股票短期的波動很多時候 跟這家公司基本面沒有任何一點的關係 那今天這集影片呢 我要來聊一些不太一樣的內容 任何投資都是有風險的 那我覺得身為特斯拉的投資人呢 應該要非常了解這家公司短期跟長期的風險那今天就來跟大家分享三個是我認為 目前投資特斯拉這家公司最大的風險 也是我最不喜歡投資這家公司的三個最主要原因 我覺得對普遍的投資人來說 最可怕的不是公司面臨的這些風險 而是你不知道這些風險的存在 那我們先暫停一下 給我一分鐘的時間介紹一下 贊助今天這集影片的小小異國手機遊戲 The Ant 遊戲是以螞蟻的第一視角去體驗 建造巢穴、擴張領土和繁殖異群的過程 我覺得這款遊戲的想法很創新 至少以傳統SLG遊戲的概念出發 用螞蟻的視角是很少見的 我以前也很喜歡玩類似這樣可以蓋自己的帝國 然後來防守跟搶奪資源的遊戲 遊戲中螞蟻有很多種類 像是弓蟻、士兵蟻還有蟻后 作用也都不一樣 比如說特化蟻是攜帶兵蟻戰鬥的隊長 強力的特化蟻可以大大提升總體的戰力 那在遊戲策略上 你需要去想怎麼樣優化你的蟻巢設計 還有資源的分配 讓你的螞蟻王國產能還有整體的戰力最大化 然後能成功防守還有攻擊敵人 在這過程中還可以學到很多關於螞蟻的真實知識 生存習性還有和其他蟲族敵人的關係 從遊戲中螞蟻地下環境的真實度 看得出來他們團隊花了很多心思 設計一個非常逼真的螞蟻世界 這款手遊在全世界的下載量已經超過6000萬了 那我會把遊戲的下載連結放在影片底下的資訊欄 如果你喜歡類似這樣的遊戲的話可以去試試看 首先第一個我覺得是最大的風險 也是我最不喜歡投資特斯拉這家公司最主要的原因 就是馬斯克本人 我覺得一家成熟的企業 穩定的企業 他的企業精神會一直傳承 而不會因為公司的某一個人不在了 而造成公司之後走下坡 或是失去一個精神領袖 其實這個道理很簡單 任何一個人在一家公司都可以做到的應該隨時都可以被取代 包含公司的CEO 這才是一家好的公司 就像你知道麥當勞 你知道可口可樂這些公司的CEO是誰嗎? Who cares? 沒有人知道 但是你看公司的股票 這些公司之所以可以永續的存在 就是因為他們內部的董事會 還有公司的文化 已經成熟到了一個 任何員工都可以隨時隨地被取代 要是今天CEO不小心掛了 馬上可以找到一個同樣資格的人 來這個位置上面做事情 完全不會影響到公司持續發展 但是特斯拉不太一樣 特斯拉的精神領袖 目前就是馬斯克 沒有任何一個人 可以取代他的地位跟重要性 那這種我都知道的事情 他自己也應該知道 我相信馬斯克很早就已經知道 他自己的接班人應該是誰 而且董事會也不可能 沒有任何接班人選 但是現實就是很多的投資人還有資本 他們投資特斯拉的原因 就是因為Elon Musk 如果他今天突然宣布不當CEO 或是出了什麼事情的話 一定會造成股票短期的 劇烈波動或是拋售 前段時間我們就已經 間接的驗證這個事實 很多人以為Elon Musk 買了Twitter之後 就沒有時間在關心特斯拉 然後要賣特斯拉的股票 來完成Twitter的收購 造成特斯拉股票短期 一度跌到100塊錢 儘管馬斯克本人 還有特斯拉這家公司 已經很明顯的一直在向外部證明 沒有馬斯克 特斯拉也可以持續按照計畫執行 你想想看他同時是 Twitter、SpaceX、特斯拉 這幾家公司的CEO 這世界上有幾個人 可以同時當這麼多家公司的CEO 還可以把所有公司的目標跟執行 都做得很好 他已經證明了沒有他 特斯拉也可以按照計畫執行 我不相信他現在花在特斯拉的時間 有以前那麼多 但是短期市場一定會有很大的波動 但是其實我比較擔心的是長期 特斯拉不像麥當勞、可口可樂 或是蘋果這些公司 就算CEO 現在的CEO退休了基本面也不會有任何的改變 因為你投資這些公司的話叫做 Value Investing 價值投資 你投資的是他們的穩定現金流 穩定的收益 穩定的產品護城河 穩定的業界口碑 而相反的特斯拉是 Growth Investing 你投資的是一家高成長高風險的科技公司 你投資的是他在未來可能可以帶來的巨大回報 而不是現在看到的穩定現金流 所以說 Growth Company 成敗很重要的一點 我敢說應該是最重要的 不是他的產品或是科技有多強 而是他的領導團隊 就像一家新創公司一樣 創始的領導團隊比什麼都還要重要 所以說我覺得現階段 就算特斯拉領導團隊已經有能力 完全執行特斯拉未來十年的計畫 還是需要有馬斯克這個精神領袖 這也是我認為目前投資特斯拉這家公司最大的缺點 就是不得不承認 馬斯克在公司裡面重要性 目前還沒有任何人可以取代 也就是說要是哪一天特斯拉沒有了馬斯克 我覺得風險跟不確定性會增加很多 不代表說公司就不會變得更好 而是目前我覺得非常難再找到一個人像他一樣 可以繼續帶領特斯拉度過種種難關 然後繼續在生產製造還有科技上面創新 第二個我認為最大的風險就是地緣政治的問題 特斯拉上海超級工廠 是目前所有超級工廠裡面產能最高 大概有40%的車子目前都是從上海那邊出來的 大家也知道中美關係一直都是那樣子 從川普上任之後就開始打貿易戰 然後中國的反間諜法 抖音在美國被禁止 這些亂七八糟的事情每天都在發生 所以假如說今天中國政府真的要做什麼 他們完全可以直接把特斯拉上海的超級工廠給關了 不需要什麼太多的理由 而且這些理由隨便找都可以找得到 相對的美國政府也是同樣有能力 直接把一家中國的公司給封殺了 所以今天咱們來看看 種族本身的衝擊 做什麼所以這就是為什麼特斯拉要在德國造超級工廠 然後為什麼要在墨西哥投資一個最大的超級工廠 美國跟墨西哥的貿易關係一直以來都非常好 雖然墨西哥的超級工廠在今年已經開始規劃了 但是要量產最快也要兩三年的時間 而且中美關係這中間夾雜的問題 不只是特斯拉這家公司 還包含了SpaceX SpaceX雖然說是一家民營的航太公司 但是他們跟NASA的關係 還有整個公司的盈利 就是幫助其他公司發射衛星到太空 這些都很有可能牽扯到政治的問題 像是幫助烏克蘭打仗 當然這些跟特斯拉這家公司沒有直接的關係 但是CEO都是同一個人 很難讓人不去考慮地緣政治上面的風險 而且大家都知道馬斯克是出了名的管不住他的嘴 我會說我想說的 如果這個影響會影響我的錢就算了 如果你不相信中國的監管機構 是可以怎麼樣去搞一家公司的話 你去看一下阿里巴巴的股票就知道了 但是馬斯克非常的聰明 他雖然在推特上面說一堆廢話 得罪很多人 我認識很多人是真心不喜歡他 但他從來沒有講過中國一句壞話 他知道有一些線還是不能跨的 但是誰知道 社交網路像是Twitter這種 在地緣政治上也是一個很敏感的產品 推特在中國是完全被禁止的 所以說我認為目前投資特斯拉這家公司 很大的一個風險就是地緣政治 第三個我認為特斯拉最大的風險 就是短期的經濟週期影響 雖然我不認為這個對我來說算得上是一個風險 因為我是一個長期投資人 我看的是5年10年之後的特斯拉 但是對很多人來說投資的年限可能不會那麼長 我覺得在接下來一兩年會有很大經濟週期的風險 其實就是一個很簡單的道理 特斯拉的車子跟BMW還有賓士 都是屬於Luxury Class高檔車的品牌 就算你的車子坐得長再怎麼屌 再怎麼高科技 目前的價位還是屬於大多數人負擔不起的 而且就算負擔得起 在經濟環境不好 尤其是科技業裁員潮 通貨膨脹 高利率的時代 消費者的習慣自然會變得保守 目前所有的宏觀狀態都是對特斯拉非常不利的 我覺得接下來一兩年的股票會有非常大的波動 而且特斯拉並沒有要踩剎車 降低產能 儘管是賠錢賣 他們都要把產能全部打開 然後把每一台車給賣掉 所以他們車的售價才會從今年開始一直降 雖然我個人認為這個做法沒有什麼太大的問題 畢竟特斯拉的毛利率是業界最高的 而且特斯拉這家公司成立的宗旨 就是要加速全世界可持續能源的轉換 他們只是在做他們說過他們會做的事情而已 但是這些做法短期不會被華爾街還有那些投資人看好 所以股票一定會有一堆機構去做空 而且特斯拉在今年四月底的時候 又再次上調今年一整年的CAPEX預測 CAPEX就是大型的資本投資 像是建造新的超級工廠 跟擴建原本的超級工廠 電池生產的投資 還有AI這部分的R&D投資 那如果你在科技業或是投資科技業相關的股票的話 你應該知道今年北美這些科技公司 只要一宣布裁員 他們的股票就會上漲 原因就是市場對接下來一年的預測是非常悲觀的 那如果公司開始節約裁員 代表說公司虧損或是倒閉的風險又降低了 所以說裁員縮減開銷 在今年來說是一個對股市利好的消息 那特斯拉相反的並沒有要裁員縮減開銷 反而是增加投資 擴建廠房 這些舉動長期來說是利好的 但是短期來看的話 很容易因為一些數據沒有達標 導致股票暴跌 在經濟不好的情況下 如果你大量投資 你的業務還是穩定向上走的那沒有任何問題,沒有人會說你 但是如果你只要有稍微一點點沒有達標 股票很容易就會被瘋狂拋售 因為這些投資都增加短期公司虧損的風險 好啦,那以上三個是目前我認為 投資特斯拉這家公司最大的風險 這也是為什麼我在頻道上面 從來不會推薦你去買特斯拉的股票 我是真心覺得這個投資不是所有人都適合 儘管我自己看好這家公司未來的發展 但是不代表說任何人投資了這家公司之後 都可以賺得到錢 如果你喜歡類似這樣的影片的話 記得一定要幫我點個讚 我也很好奇你的看法 歡迎你在底下留言跟大家分享一下 你認為投資特斯拉這家公司目前最大的風險是什麼 那我們下次見囉'"
      ]
     },
     "execution_count": 5,
     "metadata": {},
     "output_type": "execute_result"
    }
   ],
   "source": [
    "from youtube_audio_transcript import YouTubeAudioTranscript\n",
    "\n",
    "url = 'https://www.youtube.com/watch?v=kXVlrSjSPUE'\n",
    "output_name = 'head-bear-tsla-risk'\n",
    "ytt = YouTubeAudioTranscript(url, output_name)\n",
    "ytt.get_transcript()"
   ]
  },
  {
   "cell_type": "code",
   "execution_count": 3,
   "id": "4c851593",
   "metadata": {},
   "outputs": [
    {
     "name": "stderr",
     "output_type": "stream",
     "text": [
      "INFO:root:Downloading giantcutie666-100x/giantcutie666-100x from https://www.youtube.com/watch?v=DHRwxxhFan8\n",
      "INFO:root:Exporting giantcutie666-100x/giantcutie666-100x.wav from giantcutie666-100x/giantcutie666-100x\n",
      "INFO:root:Opening giantcutie666-100x/giantcutie666-100x.wav\n",
      "INFO:root:Divided the file into 7 chunks of 100 seconds each.\n",
      "INFO:root:Exporting new chunk file giantcutie666-100x/chunks/giantcutie666-100x_chunk0.wav\n",
      "INFO:root:Transcribed:如何發現百倍的潛力項目 最近我聽說我們社區小夥伴 有些人非常的焦慮 為什麼有些項目漲了幾十倍上百倍 他卻沒吃到呢 要麼是做了波段賣飛了 要麼是衝到山頂去站崗了 還有人甚至衝到了皮修盤 為什麼在這樣的行情 擺在我們面前的這種大肉 有的人卻總是吃不上 或許這裡可能缺少一個 發現潛力項目的投資邏輯 很多人都期待大漂亮能分享一下 我們自己團隊的投資篩項目的邏輯 大漂亮想來想去 決定今天就給大家去盤一盤 我今天從工具利用 發現周西紅利和挖掘賽道領頭羊 以及調研項目本身的資質 等等一系列方面 我給大家分析一個 我們自己團隊的投資框架 給各位一點啟發 讓我們一起 完善自己在市場上挖掘出百倍項目 在這裡備註一下 以下的方法是我們大漂亮自己團隊 在市場上驗證的經驗 屬於獨家秘訣 不是任何投資建議 但是值得大家細品 好了我們今天直接開始 第一部分先說工具 俗話說 咱們加密領域也一樣 我們每天去收集大量的信息 做篩選和執行 都需要用到各種各樣的工具 比如說這個信息來源 比如說數據查詢 比如說一些檢測工具 這裡大漂亮就不再一一去給大家列舉了 直接給你一個整合網站 這個網站裡面記錄了 關於行業的所有工具 你想要的一切都可以在這裡查 比如說你想了解資訊 開發要求 等等等等 你只要點擊這個網站 你就能夠看到 我們大漂亮的資訊 我們大漂亮的行業 我們大漂亮的投資 我們大漂亮的行業 我們大漂亮的投資 我們大漂亮的行業 我們大漂亮的投資\n",
      "INFO:root:Exporting new chunk file giantcutie666-100x/chunks/giantcutie666-100x_chunk1.wav\n",
      "INFO:root:Transcribed:檢測NFT或者是二級數據 甚至一些IDO的項目或者是跨鏈等等等等 這一系列的所有的工具都可以在這個網站裡面去找 好 那有了工具怎麼用呢? 這個用法大家自己去學習 我覺得我們這個年齡段的人自己摸索兩下就會了 但是大片了還是有一個習慣上的建議 就是我們身處的行業發展可謂是十分迅速 我們可能不能做到每天都及時對這些信息進行捕捉 但是我們一定要做的就是復盤 就是我們每天需要去看這一天都發生了什麼事 這個復盤方式有些人比較習慣去依賴一些資訊網站 還是說你喜歡刷刷社交媒體看看Twitter什麼的 不管怎樣你只要去看都會讓你在這個行業裏不掉隊 當然關注大漂亮就夠了其他也不用看啥是吧 第二就是一定要做到嚴謹 比如說數據的查詢 比如說鏈上買幣的時候合約地址一定要進行檢測和核查 還有最好就是一些新的工具你在使用的時候 千萬不要直接上來用自己的主錢包 多弄幾個測試錢包去做一些嘗試 自己熟悉的工具當然可以操作自己的主錢包了 好了那我說完了工具我們就回到主題 如何去發現一個提取潛力的項目 那這第一點就叫周期誕生新機會 什麼意思呢 首先我認為要去捕捉這個周期 因為每個周期都會誕生新的板塊 而每個板塊又會誕生新的龍頭 那這些龍頭項目都是足以令人財富自由的好機會 比如說這個2020年下半年開始的牛市 當時什麼板塊動了 那就是DeFi呀 DeFi是一種底座的圖譜 感應氣,也可以體驗這個專屬比例\n",
      "INFO:root:Exporting new chunk file giantcutie666-100x/chunks/giantcutie666-100x_chunk2.wav\n",
      "INFO:root:Transcribed:进接着诞生了NFT 随后又出现了Gamefly等等的新鲜板块 这些板块都是之前从来没出现过的 所以它们一出现就风光无量 好 那第二个点就叫新机会跑出领头羊 也就是说这些新鲜出来的板块 它会跑出引领这个板块的龙头和龙二 比如说我们之前说的这个DeFi板块 它就诞生了Uniswap 是吧 Compass 还有这个AAVE等这一系列百倍的项目 NFT板块也有龙头是吧 这些篮球项目BAVC系列 包括Gamefly板块是不是出现了 阿谢 飞船 就连Stefan 这些也都是非常厉害的龙头项目 所以抓龙头也是必备技能之一 那这背后的思考应该是什么呢 你说这个板块一旦火起来 这么多的项目的诞生 一定需要承载能力 对不对 所以承载这些项目的攻略 就成为了我们必须要发展的赛道 我们看到这个DeFi各种Five疯狂的时候 咱们以太坊的盖茨费的拥堵 一时之间根本解决不了 所以说 BAN和火币纷纷推出了自己的攻略 也就是这个BSC链和这个HECO链 他们也来抢占市场 不仅如此 市场上其实也嗅到了这一块的商机 Selena AVEX 这些座链也纷纷跟上了这个节奏 都表现得非常好 是不是 另外除了市场抢占以外 以太坊作为龙一大哥 市占率非常大 而且他想要自救 必须要扩容 所以说接下来要火的就是扩容 但是这个扩容人家也不是一下就能完成的 所以推出了二层网络 这也就是今年巨火的灵魂\n",
      "INFO:root:Exporting new chunk file giantcutie666-100x/chunks/giantcutie666-100x_chunk3.wav\n",
      "INFO:root:Transcribed:Layer 2 这本质上也就是以太坊做的业务 提亮自然不会差 所以这一块进阶着就诞生了新机会 看出来了吗 这就是大机会出来之后就会诞生小机会 机会一环套一环 因为A所以B 这都是连续剧 那说完了第一轮的机会 我们再来说第二场 如果说第一场是闷户之争 那第二场就是具体的产品发展 比如说各大供链发展起来之后 供链上你要跑出来明星产品 你要跑出来龙头 比如说当时的BSC链上面的Cake 你还记得吗 海口链上的MDX 斯拉那链上的锐 这些都是非常不错的财富机会 你看连续剧是不是就来了 那这就是周期 周期下面的板块轮动 那周期带来的红利可谓是十分的可观 但仅仅是通过观察周期 我们也很难去品到其中的细节 那我们如果把握到了每个周期的大方向 接下来要怎么去筛选其中的项目呢 这就要回到项目的本身 什么项目才是好项目 一般情况下一个大的方向 一定会诞生出来一两个龙头项目 而这些龙头项目都有一个共同点 要么就是人家背景出色 早早的就获得了大资本的投资 要么就像BNZ搞Cake这样的亲儿子一样 背后有一个大机构持续的扶持 我们就以今年大火的Abitron来看 它是一太坊的Layer 2项目 解决一太坊网络拥堵的问题 赛道需求和潜力都是非常大的 符合行业发展 符合用户需求 好的接下来我们来看它的项目本身 这个Abitron的背景呢 它一共融了1.43亿美元\n",
      "INFO:root:Exporting new chunk file giantcutie666-100x/chunks/giantcutie666-100x_chunk4.wav\n",
      "INFO:root:Transcribed:他的資方爸爸是Coinbase和Petron 等等一系列重量級十分優秀的投資人 除此之外 這個Arbitrum背後的團隊創始人更是不得了 最早提出Arbitrum概念的Ed Felton 曾被任命為白宮的首席技術官 人家為奧巴馬政府提供技術安全保障 總統御用的 是吧 這樣我們來按照實驗線來推一下 綜合來看一下 2018年人家項目立項了 團隊成員也非常優秀 在2020年的時候 Defi Summer Defi狂暴的時候 人家做了測試網 然後部署了他的合約 2021年人家就開始融資了 融了一大筆錢 然後在2022年升雄的時候 他開始了一個奧德賽活動 我們都知道是不是 然後在2023年 也就是今年的上海升級大熱點之前 開啟了空頭 徹底點燃了市場 以上的一些簡單描述我們可以發現 這個Arbitrum 它是一個典型的符合 好賽道 好賽車 好車手的項目 是時代的寵兒 一切都是設計的那麼精妙 是不是 那我們在這個時候 從數據的角度來看 在2021年9月份的時候 推出的Arbitrum One網絡 完成了1.2億的必輪融資之後 這個Arbitrum的用戶量就開始增加 並且迅速取得了賽道的領先 那我們來做個縫盤 在這個時間點我們都知道 以開放Layer 2的概念 其實已經被炒得非常熱了 大家都認為這個是剛需 而這個Arbitrum 作為一個優秀團隊開發的項目 在這個數據上你又處於領先優勢 在資方上你又可圈可點 所以說它一定會被各方勢力 加入這個觀察名單中 這就符合了當下市場情況的 潛力性的一個標準\n",
      "INFO:root:Exporting new chunk file giantcutie666-100x/chunks/giantcutie666-100x_chunk5.wav\n",
      "INFO:root:Transcribed:如果它没发币那么就撸它 是不是 如果它发币了那咱就埋伏它 等着就是它在2023年这个板块的爆发 只要市场行情一好 这个板块一定是推动牛市的领头羊 好了那既然是连续剧 下一步要关注什么 下一步它作为一个二层网络的龙头 我们要关注的是它生态里面的其他应用 在项目充满噪音的时候 这个生态的Dex借贷延伸品 一定也会跑出优质的项目 这个时候我们就可以通过这个小工具 DeFi Llama去关注一下锁仓量的变化 当发现流量或者是数据异动的时候 生态锁仓量排名前列的 一定是我们值得关注的 这就是连续剧的下一个小龙头 比如说我们今年阿比充的生态的 数据贼拉好的GMX和RDNT 都表现得非常的强势 是不是 当然了我们去调研市场的周期 和周期内的项目时 一定要考虑一个客观的条件 那就是要符合当下的市场行情 我们不能在旧社会老百姓 都温饱解决不了的时候 去卖他们吃的食品 也不太好在大排档烤烧烤的时候 你高远的端出一杯红酒 就如同现在此时此刻的市场行情是什么呢 是以太坊的首要任务 扩容 所以说我们结合这个市场行情 那肯定是在扩容的基础上去找机会 当扩容完成之后 连续剧才会到下一集 我们再去关注这些丰富的生态机会 所以说我们关注的机会点 一定是基于现在市场客观存在的问题 和提出解决和发展的方案 从这些方案和思维中去寻找机会\n",
      "INFO:root:Exporting new chunk file giantcutie666-100x/chunks/giantcutie666-100x_chunk6.wav\n",
      "INFO:root:Transcribed:这样才更有利于我们去普获价值 然后等待市场噪音东风 风一来猪都会起飞 好了 我们来总结一下 一个潜力的项目一定要符合 然后我们在符合市场需求的逻辑时候去埋伏 在噪音出现并且达到一定顶点的时候 就是我们一轮周期的结束 换句话说就是阶段性的顶点 在这个过程中 我们要通过新闻软件 社交媒体等工具 去了解市场的情况 时刻保持敏感度 好了 那以上就是本期视频的全部内容了 你如果喜欢我的内容 那就欢迎大家一键三连 对了 问一下 你们是如何埋伏潜力项目方的 评论区告诉大片了 我们一起来讨论一下\n",
      "INFO:root:Saved transcript to /home/rightson/workspace/youtube-trascriptions/giantcutie666-100x.txt\n"
     ]
    },
    {
     "name": "stdout",
     "output_type": "stream",
     "text": [
      "如何發現百倍的潛力項目 最近我聽說我們社區小夥伴 有些人非常的焦慮 為什麼有些項目漲了幾十倍上百倍 他卻沒吃到呢 要麼是做了波段賣飛了 要麼是衝到山頂去站崗了 還有人甚至衝到了皮修盤 為什麼在這樣的行情 擺在我們面前的這種大肉 有的人卻總是吃不上 或許這裡可能缺少一個 發現潛力項目的投資邏輯 很多人都期待大漂亮能分享一下 我們自己團隊的投資篩項目的邏輯 大漂亮想來想去 決定今天就給大家去盤一盤 我今天從工具利用 發現周西紅利和挖掘賽道領頭羊 以及調研項目本身的資質 等等一系列方面 我給大家分析一個 我們自己團隊的投資框架 給各位一點啟發 讓我們一起 完善自己在市場上挖掘出百倍項目 在這裡備註一下 以下的方法是我們大漂亮自己團隊 在市場上驗證的經驗 屬於獨家秘訣 不是任何投資建議 但是值得大家細品 好了我們今天直接開始 第一部分先說工具 俗話說 咱們加密領域也一樣 我們每天去收集大量的信息 做篩選和執行 都需要用到各種各樣的工具 比如說這個信息來源 比如說數據查詢 比如說一些檢測工具 這裡大漂亮就不再一一去給大家列舉了 直接給你一個整合網站 這個網站裡面記錄了 關於行業的所有工具 你想要的一切都可以在這裡查 比如說你想了解資訊 開發要求 等等等等 你只要點擊這個網站 你就能夠看到 我們大漂亮的資訊 我們大漂亮的行業 我們大漂亮的投資 我們大漂亮的行業 我們大漂亮的投資 我們大漂亮的行業 我們大漂亮的投資檢測NFT或者是二級數據 甚至一些IDO的項目或者是跨鏈等等等等 這一系列的所有的工具都可以在這個網站裡面去找 好 那有了工具怎麼用呢? 這個用法大家自己去學習 我覺得我們這個年齡段的人自己摸索兩下就會了 但是大片了還是有一個習慣上的建議 就是我們身處的行業發展可謂是十分迅速 我們可能不能做到每天都及時對這些信息進行捕捉 但是我們一定要做的就是復盤 就是我們每天需要去看這一天都發生了什麼事 這個復盤方式有些人比較習慣去依賴一些資訊網站 還是說你喜歡刷刷社交媒體看看Twitter什麼的 不管怎樣你只要去看都會讓你在這個行業裏不掉隊 當然關注大漂亮就夠了其他也不用看啥是吧 第二就是一定要做到嚴謹 比如說數據的查詢 比如說鏈上買幣的時候合約地址一定要進行檢測和核查 還有最好就是一些新的工具你在使用的時候 千萬不要直接上來用自己的主錢包 多弄幾個測試錢包去做一些嘗試 自己熟悉的工具當然可以操作自己的主錢包了 好了那我說完了工具我們就回到主題 如何去發現一個提取潛力的項目 那這第一點就叫周期誕生新機會 什麼意思呢 首先我認為要去捕捉這個周期 因為每個周期都會誕生新的板塊 而每個板塊又會誕生新的龍頭 那這些龍頭項目都是足以令人財富自由的好機會 比如說這個2020年下半年開始的牛市 當時什麼板塊動了 那就是DeFi呀 DeFi是一種底座的圖譜 感應氣,也可以體驗這個專屬比例进接着诞生了NFT 随后又出现了Gamefly等等的新鲜板块 这些板块都是之前从来没出现过的 所以它们一出现就风光无量 好 那第二个点就叫新机会跑出领头羊 也就是说这些新鲜出来的板块 它会跑出引领这个板块的龙头和龙二 比如说我们之前说的这个DeFi板块 它就诞生了Uniswap 是吧 Compass 还有这个AAVE等这一系列百倍的项目 NFT板块也有龙头是吧 这些篮球项目BAVC系列 包括Gamefly板块是不是出现了 阿谢 飞船 就连Stefan 这些也都是非常厉害的龙头项目 所以抓龙头也是必备技能之一 那这背后的思考应该是什么呢 你说这个板块一旦火起来 这么多的项目的诞生 一定需要承载能力 对不对 所以承载这些项目的攻略 就成为了我们必须要发展的赛道 我们看到这个DeFi各种Five疯狂的时候 咱们以太坊的盖茨费的拥堵 一时之间根本解决不了 所以说 BAN和火币纷纷推出了自己的攻略 也就是这个BSC链和这个HECO链 他们也来抢占市场 不仅如此 市场上其实也嗅到了这一块的商机 Selena AVEX 这些座链也纷纷跟上了这个节奏 都表现得非常好 是不是 另外除了市场抢占以外 以太坊作为龙一大哥 市占率非常大 而且他想要自救 必须要扩容 所以说接下来要火的就是扩容 但是这个扩容人家也不是一下就能完成的 所以推出了二层网络 这也就是今年巨火的灵魂Layer 2 这本质上也就是以太坊做的业务 提亮自然不会差 所以这一块进阶着就诞生了新机会 看出来了吗 这就是大机会出来之后就会诞生小机会 机会一环套一环 因为A所以B 这都是连续剧 那说完了第一轮的机会 我们再来说第二场 如果说第一场是闷户之争 那第二场就是具体的产品发展 比如说各大供链发展起来之后 供链上你要跑出来明星产品 你要跑出来龙头 比如说当时的BSC链上面的Cake 你还记得吗 海口链上的MDX 斯拉那链上的锐 这些都是非常不错的财富机会 你看连续剧是不是就来了 那这就是周期 周期下面的板块轮动 那周期带来的红利可谓是十分的可观 但仅仅是通过观察周期 我们也很难去品到其中的细节 那我们如果把握到了每个周期的大方向 接下来要怎么去筛选其中的项目呢 这就要回到项目的本身 什么项目才是好项目 一般情况下一个大的方向 一定会诞生出来一两个龙头项目 而这些龙头项目都有一个共同点 要么就是人家背景出色 早早的就获得了大资本的投资 要么就像BNZ搞Cake这样的亲儿子一样 背后有一个大机构持续的扶持 我们就以今年大火的Abitron来看 它是一太坊的Layer 2项目 解决一太坊网络拥堵的问题 赛道需求和潜力都是非常大的 符合行业发展 符合用户需求 好的接下来我们来看它的项目本身 这个Abitron的背景呢 它一共融了1.43亿美元他的資方爸爸是Coinbase和Petron 等等一系列重量級十分優秀的投資人 除此之外 這個Arbitrum背後的團隊創始人更是不得了 最早提出Arbitrum概念的Ed Felton 曾被任命為白宮的首席技術官 人家為奧巴馬政府提供技術安全保障 總統御用的 是吧 這樣我們來按照實驗線來推一下 綜合來看一下 2018年人家項目立項了 團隊成員也非常優秀 在2020年的時候 Defi Summer Defi狂暴的時候 人家做了測試網 然後部署了他的合約 2021年人家就開始融資了 融了一大筆錢 然後在2022年升雄的時候 他開始了一個奧德賽活動 我們都知道是不是 然後在2023年 也就是今年的上海升級大熱點之前 開啟了空頭 徹底點燃了市場 以上的一些簡單描述我們可以發現 這個Arbitrum 它是一個典型的符合 好賽道 好賽車 好車手的項目 是時代的寵兒 一切都是設計的那麼精妙 是不是 那我們在這個時候 從數據的角度來看 在2021年9月份的時候 推出的Arbitrum One網絡 完成了1.2億的必輪融資之後 這個Arbitrum的用戶量就開始增加 並且迅速取得了賽道的領先 那我們來做個縫盤 在這個時間點我們都知道 以開放Layer 2的概念 其實已經被炒得非常熱了 大家都認為這個是剛需 而這個Arbitrum 作為一個優秀團隊開發的項目 在這個數據上你又處於領先優勢 在資方上你又可圈可點 所以說它一定會被各方勢力 加入這個觀察名單中 這就符合了當下市場情況的 潛力性的一個標準如果它没发币那么就撸它 是不是 如果它发币了那咱就埋伏它 等着就是它在2023年这个板块的爆发 只要市场行情一好 这个板块一定是推动牛市的领头羊 好了那既然是连续剧 下一步要关注什么 下一步它作为一个二层网络的龙头 我们要关注的是它生态里面的其他应用 在项目充满噪音的时候 这个生态的Dex借贷延伸品 一定也会跑出优质的项目 这个时候我们就可以通过这个小工具 DeFi Llama去关注一下锁仓量的变化 当发现流量或者是数据异动的时候 生态锁仓量排名前列的 一定是我们值得关注的 这就是连续剧的下一个小龙头 比如说我们今年阿比充的生态的 数据贼拉好的GMX和RDNT 都表现得非常的强势 是不是 当然了我们去调研市场的周期 和周期内的项目时 一定要考虑一个客观的条件 那就是要符合当下的市场行情 我们不能在旧社会老百姓 都温饱解决不了的时候 去卖他们吃的食品 也不太好在大排档烤烧烤的时候 你高远的端出一杯红酒 就如同现在此时此刻的市场行情是什么呢 是以太坊的首要任务 扩容 所以说我们结合这个市场行情 那肯定是在扩容的基础上去找机会 当扩容完成之后 连续剧才会到下一集 我们再去关注这些丰富的生态机会 所以说我们关注的机会点 一定是基于现在市场客观存在的问题 和提出解决和发展的方案 从这些方案和思维中去寻找机会这样才更有利于我们去普获价值 然后等待市场噪音东风 风一来猪都会起飞 好了 我们来总结一下 一个潜力的项目一定要符合 然后我们在符合市场需求的逻辑时候去埋伏 在噪音出现并且达到一定顶点的时候 就是我们一轮周期的结束 换句话说就是阶段性的顶点 在这个过程中 我们要通过新闻软件 社交媒体等工具 去了解市场的情况 时刻保持敏感度 好了 那以上就是本期视频的全部内容了 你如果喜欢我的内容 那就欢迎大家一键三连 对了 问一下 你们是如何埋伏潜力项目方的 评论区告诉大片了 我们一起来讨论一下\n"
     ]
    },
    {
     "data": {
      "text/plain": [
       "'如何發現百倍的潛力項目 最近我聽說我們社區小夥伴 有些人非常的焦慮 為什麼有些項目漲了幾十倍上百倍 他卻沒吃到呢 要麼是做了波段賣飛了 要麼是衝到山頂去站崗了 還有人甚至衝到了皮修盤 為什麼在這樣的行情 擺在我們面前的這種大肉 有的人卻總是吃不上 或許這裡可能缺少一個 發現潛力項目的投資邏輯 很多人都期待大漂亮能分享一下 我們自己團隊的投資篩項目的邏輯 大漂亮想來想去 決定今天就給大家去盤一盤 我今天從工具利用 發現周西紅利和挖掘賽道領頭羊 以及調研項目本身的資質 等等一系列方面 我給大家分析一個 我們自己團隊的投資框架 給各位一點啟發 讓我們一起 完善自己在市場上挖掘出百倍項目 在這裡備註一下 以下的方法是我們大漂亮自己團隊 在市場上驗證的經驗 屬於獨家秘訣 不是任何投資建議 但是值得大家細品 好了我們今天直接開始 第一部分先說工具 俗話說 咱們加密領域也一樣 我們每天去收集大量的信息 做篩選和執行 都需要用到各種各樣的工具 比如說這個信息來源 比如說數據查詢 比如說一些檢測工具 這裡大漂亮就不再一一去給大家列舉了 直接給你一個整合網站 這個網站裡面記錄了 關於行業的所有工具 你想要的一切都可以在這裡查 比如說你想了解資訊 開發要求 等等等等 你只要點擊這個網站 你就能夠看到 我們大漂亮的資訊 我們大漂亮的行業 我們大漂亮的投資 我們大漂亮的行業 我們大漂亮的投資 我們大漂亮的行業 我們大漂亮的投資檢測NFT或者是二級數據 甚至一些IDO的項目或者是跨鏈等等等等 這一系列的所有的工具都可以在這個網站裡面去找 好 那有了工具怎麼用呢? 這個用法大家自己去學習 我覺得我們這個年齡段的人自己摸索兩下就會了 但是大片了還是有一個習慣上的建議 就是我們身處的行業發展可謂是十分迅速 我們可能不能做到每天都及時對這些信息進行捕捉 但是我們一定要做的就是復盤 就是我們每天需要去看這一天都發生了什麼事 這個復盤方式有些人比較習慣去依賴一些資訊網站 還是說你喜歡刷刷社交媒體看看Twitter什麼的 不管怎樣你只要去看都會讓你在這個行業裏不掉隊 當然關注大漂亮就夠了其他也不用看啥是吧 第二就是一定要做到嚴謹 比如說數據的查詢 比如說鏈上買幣的時候合約地址一定要進行檢測和核查 還有最好就是一些新的工具你在使用的時候 千萬不要直接上來用自己的主錢包 多弄幾個測試錢包去做一些嘗試 自己熟悉的工具當然可以操作自己的主錢包了 好了那我說完了工具我們就回到主題 如何去發現一個提取潛力的項目 那這第一點就叫周期誕生新機會 什麼意思呢 首先我認為要去捕捉這個周期 因為每個周期都會誕生新的板塊 而每個板塊又會誕生新的龍頭 那這些龍頭項目都是足以令人財富自由的好機會 比如說這個2020年下半年開始的牛市 當時什麼板塊動了 那就是DeFi呀 DeFi是一種底座的圖譜 感應氣,也可以體驗這個專屬比例进接着诞生了NFT 随后又出现了Gamefly等等的新鲜板块 这些板块都是之前从来没出现过的 所以它们一出现就风光无量 好 那第二个点就叫新机会跑出领头羊 也就是说这些新鲜出来的板块 它会跑出引领这个板块的龙头和龙二 比如说我们之前说的这个DeFi板块 它就诞生了Uniswap 是吧 Compass 还有这个AAVE等这一系列百倍的项目 NFT板块也有龙头是吧 这些篮球项目BAVC系列 包括Gamefly板块是不是出现了 阿谢 飞船 就连Stefan 这些也都是非常厉害的龙头项目 所以抓龙头也是必备技能之一 那这背后的思考应该是什么呢 你说这个板块一旦火起来 这么多的项目的诞生 一定需要承载能力 对不对 所以承载这些项目的攻略 就成为了我们必须要发展的赛道 我们看到这个DeFi各种Five疯狂的时候 咱们以太坊的盖茨费的拥堵 一时之间根本解决不了 所以说 BAN和火币纷纷推出了自己的攻略 也就是这个BSC链和这个HECO链 他们也来抢占市场 不仅如此 市场上其实也嗅到了这一块的商机 Selena AVEX 这些座链也纷纷跟上了这个节奏 都表现得非常好 是不是 另外除了市场抢占以外 以太坊作为龙一大哥 市占率非常大 而且他想要自救 必须要扩容 所以说接下来要火的就是扩容 但是这个扩容人家也不是一下就能完成的 所以推出了二层网络 这也就是今年巨火的灵魂Layer 2 这本质上也就是以太坊做的业务 提亮自然不会差 所以这一块进阶着就诞生了新机会 看出来了吗 这就是大机会出来之后就会诞生小机会 机会一环套一环 因为A所以B 这都是连续剧 那说完了第一轮的机会 我们再来说第二场 如果说第一场是闷户之争 那第二场就是具体的产品发展 比如说各大供链发展起来之后 供链上你要跑出来明星产品 你要跑出来龙头 比如说当时的BSC链上面的Cake 你还记得吗 海口链上的MDX 斯拉那链上的锐 这些都是非常不错的财富机会 你看连续剧是不是就来了 那这就是周期 周期下面的板块轮动 那周期带来的红利可谓是十分的可观 但仅仅是通过观察周期 我们也很难去品到其中的细节 那我们如果把握到了每个周期的大方向 接下来要怎么去筛选其中的项目呢 这就要回到项目的本身 什么项目才是好项目 一般情况下一个大的方向 一定会诞生出来一两个龙头项目 而这些龙头项目都有一个共同点 要么就是人家背景出色 早早的就获得了大资本的投资 要么就像BNZ搞Cake这样的亲儿子一样 背后有一个大机构持续的扶持 我们就以今年大火的Abitron来看 它是一太坊的Layer 2项目 解决一太坊网络拥堵的问题 赛道需求和潜力都是非常大的 符合行业发展 符合用户需求 好的接下来我们来看它的项目本身 这个Abitron的背景呢 它一共融了1.43亿美元他的資方爸爸是Coinbase和Petron 等等一系列重量級十分優秀的投資人 除此之外 這個Arbitrum背後的團隊創始人更是不得了 最早提出Arbitrum概念的Ed Felton 曾被任命為白宮的首席技術官 人家為奧巴馬政府提供技術安全保障 總統御用的 是吧 這樣我們來按照實驗線來推一下 綜合來看一下 2018年人家項目立項了 團隊成員也非常優秀 在2020年的時候 Defi Summer Defi狂暴的時候 人家做了測試網 然後部署了他的合約 2021年人家就開始融資了 融了一大筆錢 然後在2022年升雄的時候 他開始了一個奧德賽活動 我們都知道是不是 然後在2023年 也就是今年的上海升級大熱點之前 開啟了空頭 徹底點燃了市場 以上的一些簡單描述我們可以發現 這個Arbitrum 它是一個典型的符合 好賽道 好賽車 好車手的項目 是時代的寵兒 一切都是設計的那麼精妙 是不是 那我們在這個時候 從數據的角度來看 在2021年9月份的時候 推出的Arbitrum One網絡 完成了1.2億的必輪融資之後 這個Arbitrum的用戶量就開始增加 並且迅速取得了賽道的領先 那我們來做個縫盤 在這個時間點我們都知道 以開放Layer 2的概念 其實已經被炒得非常熱了 大家都認為這個是剛需 而這個Arbitrum 作為一個優秀團隊開發的項目 在這個數據上你又處於領先優勢 在資方上你又可圈可點 所以說它一定會被各方勢力 加入這個觀察名單中 這就符合了當下市場情況的 潛力性的一個標準如果它没发币那么就撸它 是不是 如果它发币了那咱就埋伏它 等着就是它在2023年这个板块的爆发 只要市场行情一好 这个板块一定是推动牛市的领头羊 好了那既然是连续剧 下一步要关注什么 下一步它作为一个二层网络的龙头 我们要关注的是它生态里面的其他应用 在项目充满噪音的时候 这个生态的Dex借贷延伸品 一定也会跑出优质的项目 这个时候我们就可以通过这个小工具 DeFi Llama去关注一下锁仓量的变化 当发现流量或者是数据异动的时候 生态锁仓量排名前列的 一定是我们值得关注的 这就是连续剧的下一个小龙头 比如说我们今年阿比充的生态的 数据贼拉好的GMX和RDNT 都表现得非常的强势 是不是 当然了我们去调研市场的周期 和周期内的项目时 一定要考虑一个客观的条件 那就是要符合当下的市场行情 我们不能在旧社会老百姓 都温饱解决不了的时候 去卖他们吃的食品 也不太好在大排档烤烧烤的时候 你高远的端出一杯红酒 就如同现在此时此刻的市场行情是什么呢 是以太坊的首要任务 扩容 所以说我们结合这个市场行情 那肯定是在扩容的基础上去找机会 当扩容完成之后 连续剧才会到下一集 我们再去关注这些丰富的生态机会 所以说我们关注的机会点 一定是基于现在市场客观存在的问题 和提出解决和发展的方案 从这些方案和思维中去寻找机会这样才更有利于我们去普获价值 然后等待市场噪音东风 风一来猪都会起飞 好了 我们来总结一下 一个潜力的项目一定要符合 然后我们在符合市场需求的逻辑时候去埋伏 在噪音出现并且达到一定顶点的时候 就是我们一轮周期的结束 换句话说就是阶段性的顶点 在这个过程中 我们要通过新闻软件 社交媒体等工具 去了解市场的情况 时刻保持敏感度 好了 那以上就是本期视频的全部内容了 你如果喜欢我的内容 那就欢迎大家一键三连 对了 问一下 你们是如何埋伏潜力项目方的 评论区告诉大片了 我们一起来讨论一下'"
      ]
     },
     "execution_count": 3,
     "metadata": {},
     "output_type": "execute_result"
    }
   ],
   "source": [
    "from youtube_audio_transcript import YouTubeAudioTranscript\n",
    "\n",
    "\n",
    "url = 'https://www.youtube.com/watch?v=DHRwxxhFan8'\n",
    "output_name = 'giantcutie666-100x'\n",
    "ytt = YouTubeAudioTranscript(url, output_name)\n",
    "ytt.get_transcript()"
   ]
  }
 ],
 "metadata": {
  "kernelspec": {
   "display_name": "Python 3 (ipykernel)",
   "language": "python",
   "name": "python3"
  },
  "language_info": {
   "codemirror_mode": {
    "name": "ipython",
    "version": 3
   },
   "file_extension": ".py",
   "mimetype": "text/x-python",
   "name": "python",
   "nbconvert_exporter": "python",
   "pygments_lexer": "ipython3",
   "version": "3.9.12"
  }
 },
 "nbformat": 4,
 "nbformat_minor": 5
}
