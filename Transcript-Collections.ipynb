{
 "cells": [
  {
   "cell_type": "code",
   "execution_count": null,
   "id": "537496a3",
   "metadata": {},
   "outputs": [],
   "source": [
    "from youtube_audio_transcript import YouTubeAudioTranscript\n",
    "\n",
    "url = 'https://www.youtube.com/watch?v=8p0oCUE3mWE'\n",
    "output_name = 'jenson-2023-ntu-commencement'\n",
    "start_time = '16:10'\n",
    "end_time = '39:00'\n",
    "ytt = YouTubeAudioTranscript(url, output_name)\n",
    "ytt.get_transcript(start_time, end_time)"
   ]
  },
  {
   "cell_type": "code",
   "execution_count": null,
   "id": "15ac594b",
   "metadata": {},
   "outputs": [],
   "source": [
    "from youtube_audio_transcript import YouTubeAudioTranscript\n",
    "\n",
    "YouTubeAudioTranscript(\n",
    "    'https://www.youtube.com/watch?v=Hat1Hc9SNwE', \n",
    "    'mariah-carey-without-you-live'\n",
    ").get_transcript()"
   ]
  },
  {
   "cell_type": "code",
   "execution_count": null,
   "id": "990c9ad9",
   "metadata": {},
   "outputs": [],
   "source": [
    "YouTubeAudioTranscript(\n",
    "    'https://www.youtube.com/watch?v=rC2hBUhOqag', \n",
    "    'gooaye-ep352'\n",
    ").get_transcript()"
   ]
  },
  {
   "cell_type": "code",
   "execution_count": null,
   "id": "e0a5bc54",
   "metadata": {},
   "outputs": [],
   "source": [
    "YouTubeAudioTranscript(\n",
    "    'https://www.youtube.com/watch?v=kXVlrSjSPUE', \n",
    "    'head-bear-tsla-risk'\n",
    ").get_transcript()"
   ]
  },
  {
   "cell_type": "code",
   "execution_count": null,
   "id": "55192fbd",
   "metadata": {},
   "outputs": [],
   "source": [
    "YouTubeAudioTranscript(\n",
    "    'https://www.youtube.com/watch?v=DHRwxxhFan8', \n",
    "    'giantcutie666-100x'\n",
    ").get_transcript()"
   ]
  },
  {
   "cell_type": "code",
   "execution_count": null,
   "id": "c24cafbc",
   "metadata": {},
   "outputs": [],
   "source": [
    "from youtube_audio_transcript import YouTubeAudioTranscript\n",
    "\n",
    "YouTubeAudioTranscript(\n",
    "    'https://www.youtube.com/watch?v=ryfU3hmE-qc', \n",
    "    'even-wu-nextjs'\n",
    ").get_transcript()"
   ]
  }
 ],
 "metadata": {
  "kernelspec": {
   "display_name": "Python 3 (ipykernel)",
   "language": "python",
   "name": "python3"
  },
  "language_info": {
   "codemirror_mode": {
    "name": "ipython",
    "version": 3
   },
   "file_extension": ".py",
   "mimetype": "text/x-python",
   "name": "python",
   "nbconvert_exporter": "python",
   "pygments_lexer": "ipython3",
   "version": "3.11.2"
  }
 },
 "nbformat": 4,
 "nbformat_minor": 5
}
