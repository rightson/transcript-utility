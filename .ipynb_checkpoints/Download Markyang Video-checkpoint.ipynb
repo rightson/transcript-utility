{
 "cells": [
  {
   "cell_type": "code",
   "execution_count": 7,
   "id": "df413c47-1f36-44d7-b2a2-c53333129130",
   "metadata": {},
   "outputs": [
    {
     "name": "stdout",
     "output_type": "stream",
     "text": [
      "[youtube] Extracting URL: https://www.youtube.com/watch?v=IyQiaSS0x0A\n",
      "[youtube] IyQiaSS0x0A: Downloading webpage\n",
      "[youtube] IyQiaSS0x0A: Downloading ios player API JSON\n",
      "[youtube] IyQiaSS0x0A: Downloading m3u8 information\n",
      "[info] IyQiaSS0x0A: Downloading 1 format(s): 251\n",
      "[download] Destination: audio.webm\n",
      "[download] 100% of   88.90MiB in 00:00:01 at 52.02MiB/s    \n",
      "[ExtractAudio] Destination: audio.mp3\n",
      "Deleting original file audio.webm (pass -k to keep)\n"
     ]
    }
   ],
   "source": [
    "source_url = 'https://www.youtube.com/watch?v=IyQiaSS0x0A'\n",
    "filename = 'mark-yang-basic'\n",
    "ydl_opts = {\n",
    "    'format': 'bestaudio/best',\n",
    "    # 'outtmpl': '%(title)%.%(ext)s',\n",
    "    'outtmpl': 'audio.%(ext)s',\n",
    "    'postprocessors': [{\n",
    "        'key': 'FFmpegExtractAudio',\n",
    "        'preferredcodec': 'mp3',\n",
    "        'preferredquality': '192',\n",
    "    }],\n",
    "}\n",
    "\n",
    "with yt_dlp.YoutubeDL(ydl_opts) as ydl:\n",
    "    ydl.download([source_url])"
   ]
  },
  {
   "cell_type": "code",
   "execution_count": 1,
   "id": "c48889e2-b13d-42f9-a93d-823b5e4c6ce8",
   "metadata": {},
   "outputs": [
    {
     "name": "stdout",
     "output_type": "stream",
     "text": [
      "chunks: 126\n",
      "\n"
     ]
    }
   ],
   "source": [
    "import openai\n",
    "import os\n",
    "from pydub import AudioSegment\n",
    "import math\n",
    "\n",
    "openai.api_key = os.environ.get('OPENAI_API_KEY')\n",
    "audio_file_path = 'audio.mp3'\n",
    "\n",
    "audio = AudioSegment.from_mp3(audio_file_path)\n",
    "chunk_length_ms = 60000  # 1 minute chunks\n",
    "chunks = math.ceil(len(audio) / chunk_length_ms)\n",
    "print('chunks:', chunks)\n",
    "chunk_files = []\n",
    "\n",
    "for i in range(chunks):\n",
    "    start_time = i * chunk_length_ms\n",
    "    end_time = start_time + chunk_length_ms\n",
    "    chunk = audio[start_time:end_time]\n",
    "    chunk_file_path = f'audio_chunk_{i}.mp3'\n",
    "    print('Processing chunk', chunk_file_path)\n",
    "    if not os.path.exists(chunk_file_path):\n",
    "        print('Exporting', chunk_file_path)        \n",
    "        chunk.export(chunk_file_path, format='mp3')\n",
    "    else:\n",
    "        print('Found', chunk_file_path)        \n",
    "    chunk_files.append(chunk_file_path)\n",
    "\n",
    "# Step 3: Transcribe each chunk using OpenAI Whisper-1\n",
    "def transcribe_audio(file_path):\n",
    "    with open(file_path, 'rb') as audio_file:\n",
    "        transcript = openai.Audio.transcribe(\n",
    "            model=\"whisper-1\",\n",
    "            file=audio_file,\n",
    "            response_format=\"text\"\n",
    "        )\n",
    "    return transcript\n",
    "\n",
    "transcripts = []\n",
    "for chunk_file in chunk_files:\n",
    "    transcript = transcribe_audio(chunk_file)\n",
    "    print(transcript)\n",
    "    transcripts.append(transcript)\n",
    "    os.remove(chunk_file)\n",
    "\n",
    "# Combine all transcriptions\n",
    "full_transcript = '\\n'.join(transcripts)\n",
    "\n",
    "print(full_transcript)\n",
    "\n",
    "# Cleanup: Remove chunk files\n",
    "for chunk_file in chunk_files:\n",
    "    if os.path.exists(chunk_file):\n",
    "        os.remove(chunk_file)"
   ]
  },
  {
   "cell_type": "code",
   "execution_count": null,
   "id": "cd200db1-193d-4053-a067-3ea83ad989e5",
   "metadata": {},
   "outputs": [],
   "source": [
    "# output_path = './mark-yang-basic'\n",
    "# filename = 'mark-yang-basic'\n",
    "# print(f'Downloading video from {source_url}')\n",
    "# audio_stream.download(output_path=output_path, filename=filename)"
   ]
  },
  {
   "cell_type": "code",
   "execution_count": null,
   "id": "596a3c53-c613-490e-9efa-0d7abf4f13f7",
   "metadata": {},
   "outputs": [],
   "source": [
    "input_audio = AudioSegment.from_file(self.output_prefix)\n",
    "input_audio.export(audio_path, format='wav')"
   ]
  }
 ],
 "metadata": {
  "kernelspec": {
   "display_name": "Python 3 (ipykernel)",
   "language": "python",
   "name": "python3"
  },
  "language_info": {
   "codemirror_mode": {
    "name": "ipython",
    "version": 3
   },
   "file_extension": ".py",
   "mimetype": "text/x-python",
   "name": "python",
   "nbconvert_exporter": "python",
   "pygments_lexer": "ipython3",
   "version": "3.11.9"
  }
 },
 "nbformat": 4,
 "nbformat_minor": 5
}
